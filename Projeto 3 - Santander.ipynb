{
 "cells": [
  {
   "cell_type": "markdown",
   "metadata": {},
   "source": [
    "# Curso de Capacitação para Cientista de Dados"
   ]
  },
  {
   "cell_type": "markdown",
   "metadata": {},
   "source": [
    "# Projeto 3 - Python"
   ]
  },
  {
   "cell_type": "markdown",
   "metadata": {},
   "source": [
    "### Etapa 1 - Definição do problema de negócio\n",
    "Prever se os clientes do Banco Santander estão satisfeitos ou não com sua experiência bancária.\n",
    "A acurácia do modelo deve ser de pelo menos 70%."
   ]
  },
  {
   "cell_type": "markdown",
   "metadata": {},
   "source": [
    "### Etapa 2 - Coleta dos dados\n",
    "Foram coletados dados disponíveis no kaggle, no endereço: https://www.kaggle.com/c/santander-customer-satisfaction"
   ]
  },
  {
   "cell_type": "code",
   "execution_count": 1,
   "metadata": {},
   "outputs": [
    {
     "data": {
      "text/html": [
       "<div>\n",
       "<style scoped>\n",
       "    .dataframe tbody tr th:only-of-type {\n",
       "        vertical-align: middle;\n",
       "    }\n",
       "\n",
       "    .dataframe tbody tr th {\n",
       "        vertical-align: top;\n",
       "    }\n",
       "\n",
       "    .dataframe thead th {\n",
       "        text-align: right;\n",
       "    }\n",
       "</style>\n",
       "<table border=\"1\" class=\"dataframe\">\n",
       "  <thead>\n",
       "    <tr style=\"text-align: right;\">\n",
       "      <th></th>\n",
       "      <th>ID</th>\n",
       "      <th>var3</th>\n",
       "      <th>var15</th>\n",
       "      <th>imp_ent_var16_ult1</th>\n",
       "      <th>imp_op_var39_comer_ult1</th>\n",
       "      <th>imp_op_var39_comer_ult3</th>\n",
       "      <th>imp_op_var40_comer_ult1</th>\n",
       "      <th>imp_op_var40_comer_ult3</th>\n",
       "      <th>imp_op_var40_efect_ult1</th>\n",
       "      <th>imp_op_var40_efect_ult3</th>\n",
       "      <th>...</th>\n",
       "      <th>saldo_medio_var33_hace2</th>\n",
       "      <th>saldo_medio_var33_hace3</th>\n",
       "      <th>saldo_medio_var33_ult1</th>\n",
       "      <th>saldo_medio_var33_ult3</th>\n",
       "      <th>saldo_medio_var44_hace2</th>\n",
       "      <th>saldo_medio_var44_hace3</th>\n",
       "      <th>saldo_medio_var44_ult1</th>\n",
       "      <th>saldo_medio_var44_ult3</th>\n",
       "      <th>var38</th>\n",
       "      <th>TARGET</th>\n",
       "    </tr>\n",
       "  </thead>\n",
       "  <tbody>\n",
       "    <tr>\n",
       "      <th>0</th>\n",
       "      <td>1</td>\n",
       "      <td>2</td>\n",
       "      <td>23</td>\n",
       "      <td>0.0</td>\n",
       "      <td>0.0</td>\n",
       "      <td>0.0</td>\n",
       "      <td>0.0</td>\n",
       "      <td>0.0</td>\n",
       "      <td>0.0</td>\n",
       "      <td>0.0</td>\n",
       "      <td>...</td>\n",
       "      <td>0.0</td>\n",
       "      <td>0.0</td>\n",
       "      <td>0.0</td>\n",
       "      <td>0.0</td>\n",
       "      <td>0.0</td>\n",
       "      <td>0.0</td>\n",
       "      <td>0.0</td>\n",
       "      <td>0.0</td>\n",
       "      <td>39205.170000</td>\n",
       "      <td>0</td>\n",
       "    </tr>\n",
       "    <tr>\n",
       "      <th>1</th>\n",
       "      <td>3</td>\n",
       "      <td>2</td>\n",
       "      <td>34</td>\n",
       "      <td>0.0</td>\n",
       "      <td>0.0</td>\n",
       "      <td>0.0</td>\n",
       "      <td>0.0</td>\n",
       "      <td>0.0</td>\n",
       "      <td>0.0</td>\n",
       "      <td>0.0</td>\n",
       "      <td>...</td>\n",
       "      <td>0.0</td>\n",
       "      <td>0.0</td>\n",
       "      <td>0.0</td>\n",
       "      <td>0.0</td>\n",
       "      <td>0.0</td>\n",
       "      <td>0.0</td>\n",
       "      <td>0.0</td>\n",
       "      <td>0.0</td>\n",
       "      <td>49278.030000</td>\n",
       "      <td>0</td>\n",
       "    </tr>\n",
       "    <tr>\n",
       "      <th>2</th>\n",
       "      <td>4</td>\n",
       "      <td>2</td>\n",
       "      <td>23</td>\n",
       "      <td>0.0</td>\n",
       "      <td>0.0</td>\n",
       "      <td>0.0</td>\n",
       "      <td>0.0</td>\n",
       "      <td>0.0</td>\n",
       "      <td>0.0</td>\n",
       "      <td>0.0</td>\n",
       "      <td>...</td>\n",
       "      <td>0.0</td>\n",
       "      <td>0.0</td>\n",
       "      <td>0.0</td>\n",
       "      <td>0.0</td>\n",
       "      <td>0.0</td>\n",
       "      <td>0.0</td>\n",
       "      <td>0.0</td>\n",
       "      <td>0.0</td>\n",
       "      <td>67333.770000</td>\n",
       "      <td>0</td>\n",
       "    </tr>\n",
       "    <tr>\n",
       "      <th>3</th>\n",
       "      <td>8</td>\n",
       "      <td>2</td>\n",
       "      <td>37</td>\n",
       "      <td>0.0</td>\n",
       "      <td>195.0</td>\n",
       "      <td>195.0</td>\n",
       "      <td>0.0</td>\n",
       "      <td>0.0</td>\n",
       "      <td>0.0</td>\n",
       "      <td>0.0</td>\n",
       "      <td>...</td>\n",
       "      <td>0.0</td>\n",
       "      <td>0.0</td>\n",
       "      <td>0.0</td>\n",
       "      <td>0.0</td>\n",
       "      <td>0.0</td>\n",
       "      <td>0.0</td>\n",
       "      <td>0.0</td>\n",
       "      <td>0.0</td>\n",
       "      <td>64007.970000</td>\n",
       "      <td>0</td>\n",
       "    </tr>\n",
       "    <tr>\n",
       "      <th>4</th>\n",
       "      <td>10</td>\n",
       "      <td>2</td>\n",
       "      <td>39</td>\n",
       "      <td>0.0</td>\n",
       "      <td>0.0</td>\n",
       "      <td>0.0</td>\n",
       "      <td>0.0</td>\n",
       "      <td>0.0</td>\n",
       "      <td>0.0</td>\n",
       "      <td>0.0</td>\n",
       "      <td>...</td>\n",
       "      <td>0.0</td>\n",
       "      <td>0.0</td>\n",
       "      <td>0.0</td>\n",
       "      <td>0.0</td>\n",
       "      <td>0.0</td>\n",
       "      <td>0.0</td>\n",
       "      <td>0.0</td>\n",
       "      <td>0.0</td>\n",
       "      <td>117310.979016</td>\n",
       "      <td>0</td>\n",
       "    </tr>\n",
       "  </tbody>\n",
       "</table>\n",
       "<p>5 rows × 371 columns</p>\n",
       "</div>"
      ],
      "text/plain": [
       "   ID  var3  var15  imp_ent_var16_ult1  imp_op_var39_comer_ult1  \\\n",
       "0   1     2     23                 0.0                      0.0   \n",
       "1   3     2     34                 0.0                      0.0   \n",
       "2   4     2     23                 0.0                      0.0   \n",
       "3   8     2     37                 0.0                    195.0   \n",
       "4  10     2     39                 0.0                      0.0   \n",
       "\n",
       "   imp_op_var39_comer_ult3  imp_op_var40_comer_ult1  imp_op_var40_comer_ult3  \\\n",
       "0                      0.0                      0.0                      0.0   \n",
       "1                      0.0                      0.0                      0.0   \n",
       "2                      0.0                      0.0                      0.0   \n",
       "3                    195.0                      0.0                      0.0   \n",
       "4                      0.0                      0.0                      0.0   \n",
       "\n",
       "   imp_op_var40_efect_ult1  imp_op_var40_efect_ult3  ...  \\\n",
       "0                      0.0                      0.0  ...   \n",
       "1                      0.0                      0.0  ...   \n",
       "2                      0.0                      0.0  ...   \n",
       "3                      0.0                      0.0  ...   \n",
       "4                      0.0                      0.0  ...   \n",
       "\n",
       "   saldo_medio_var33_hace2  saldo_medio_var33_hace3  saldo_medio_var33_ult1  \\\n",
       "0                      0.0                      0.0                     0.0   \n",
       "1                      0.0                      0.0                     0.0   \n",
       "2                      0.0                      0.0                     0.0   \n",
       "3                      0.0                      0.0                     0.0   \n",
       "4                      0.0                      0.0                     0.0   \n",
       "\n",
       "   saldo_medio_var33_ult3  saldo_medio_var44_hace2  saldo_medio_var44_hace3  \\\n",
       "0                     0.0                      0.0                      0.0   \n",
       "1                     0.0                      0.0                      0.0   \n",
       "2                     0.0                      0.0                      0.0   \n",
       "3                     0.0                      0.0                      0.0   \n",
       "4                     0.0                      0.0                      0.0   \n",
       "\n",
       "   saldo_medio_var44_ult1  saldo_medio_var44_ult3          var38  TARGET  \n",
       "0                     0.0                     0.0   39205.170000       0  \n",
       "1                     0.0                     0.0   49278.030000       0  \n",
       "2                     0.0                     0.0   67333.770000       0  \n",
       "3                     0.0                     0.0   64007.970000       0  \n",
       "4                     0.0                     0.0  117310.979016       0  \n",
       "\n",
       "[5 rows x 371 columns]"
      ]
     },
     "execution_count": 1,
     "metadata": {},
     "output_type": "execute_result"
    }
   ],
   "source": [
    "import pandas as pd\n",
    "data = pd.read_csv(\"Santander.csv\"); data.head()"
   ]
  },
  {
   "cell_type": "markdown",
   "metadata": {},
   "source": [
    "### Etapa 3 - Análise Exploratória"
   ]
  },
  {
   "cell_type": "code",
   "execution_count": 2,
   "metadata": {},
   "outputs": [
    {
     "data": {
      "text/plain": [
       "(76020, 371)"
      ]
     },
     "execution_count": 2,
     "metadata": {},
     "output_type": "execute_result"
    }
   ],
   "source": [
    "# Verificando o tamanho do dataset\n",
    "data.shape"
   ]
  },
  {
   "cell_type": "code",
   "execution_count": 3,
   "metadata": {},
   "outputs": [],
   "source": [
    "# Carregando o pacote gráfico\n",
    "import matplotlib.pyplot as plt\n",
    "%matplotlib inline"
   ]
  },
  {
   "cell_type": "code",
   "execution_count": 4,
   "metadata": {},
   "outputs": [
    {
     "data": {
      "text/plain": [
       "(array([73012.,  3008.]), array([0. , 0.5, 1. ]), <a list of 1 Patch objects>)"
      ]
     },
     "execution_count": 4,
     "metadata": {},
     "output_type": "execute_result"
    },
    {
     "data": {
      "image/png": "[encoded data removed]",
      "text/plain": [
       "<Figure size 432x288 with 1 Axes>"
      ]
     },
     "metadata": {
      "needs_background": "light"
     },
     "output_type": "display_data"
    }
   ],
   "source": [
    "# Verificando a divisão dos dados\n",
    "plt.hist(data[\"TARGET\"], bins = 2, histtype = 'stepfilled', rwidth = 0.8)"
   ]
  },
  {
   "cell_type": "markdown",
   "metadata": {},
   "source": [
    "A maior parte dos clientes do dataset estão satisfeitos, pois 73012 linhas possuem target igual a 0, enquanto apenas 3008 linhas possuem target igual a 1.\n",
    "Target = 0 -> clientes satisfeitos;\n",
    "Target = 1 -> clientes insatisfeitos."
   ]
  },
  {
   "cell_type": "code",
   "execution_count": 5,
   "metadata": {},
   "outputs": [
    {
     "data": {
      "text/html": [
       "<div>\n",
       "<style scoped>\n",
       "    .dataframe tbody tr th:only-of-type {\n",
       "        vertical-align: middle;\n",
       "    }\n",
       "\n",
       "    .dataframe tbody tr th {\n",
       "        vertical-align: top;\n",
       "    }\n",
       "\n",
       "    .dataframe thead th {\n",
       "        text-align: right;\n",
       "    }\n",
       "</style>\n",
       "<table border=\"1\" class=\"dataframe\">\n",
       "  <thead>\n",
       "    <tr style=\"text-align: right;\">\n",
       "      <th></th>\n",
       "      <th>ID</th>\n",
       "      <th>var3</th>\n",
       "      <th>var15</th>\n",
       "      <th>imp_ent_var16_ult1</th>\n",
       "      <th>imp_op_var39_comer_ult1</th>\n",
       "      <th>imp_op_var39_comer_ult3</th>\n",
       "      <th>imp_op_var40_comer_ult1</th>\n",
       "      <th>imp_op_var40_comer_ult3</th>\n",
       "      <th>imp_op_var40_efect_ult1</th>\n",
       "      <th>imp_op_var40_efect_ult3</th>\n",
       "      <th>...</th>\n",
       "      <th>saldo_medio_var33_hace2</th>\n",
       "      <th>saldo_medio_var33_hace3</th>\n",
       "      <th>saldo_medio_var33_ult1</th>\n",
       "      <th>saldo_medio_var33_ult3</th>\n",
       "      <th>saldo_medio_var44_hace2</th>\n",
       "      <th>saldo_medio_var44_hace3</th>\n",
       "      <th>saldo_medio_var44_ult1</th>\n",
       "      <th>saldo_medio_var44_ult3</th>\n",
       "      <th>var38</th>\n",
       "      <th>TARGET</th>\n",
       "    </tr>\n",
       "  </thead>\n",
       "  <tbody>\n",
       "    <tr>\n",
       "      <th>count</th>\n",
       "      <td>76020.000000</td>\n",
       "      <td>76020.000000</td>\n",
       "      <td>76020.000000</td>\n",
       "      <td>76020.000000</td>\n",
       "      <td>76020.000000</td>\n",
       "      <td>76020.000000</td>\n",
       "      <td>76020.000000</td>\n",
       "      <td>76020.000000</td>\n",
       "      <td>76020.000000</td>\n",
       "      <td>76020.000000</td>\n",
       "      <td>...</td>\n",
       "      <td>76020.000000</td>\n",
       "      <td>76020.000000</td>\n",
       "      <td>76020.000000</td>\n",
       "      <td>76020.000000</td>\n",
       "      <td>76020.000000</td>\n",
       "      <td>76020.000000</td>\n",
       "      <td>76020.000000</td>\n",
       "      <td>76020.000000</td>\n",
       "      <td>7.602000e+04</td>\n",
       "      <td>76020.000000</td>\n",
       "    </tr>\n",
       "    <tr>\n",
       "      <th>mean</th>\n",
       "      <td>75964.050723</td>\n",
       "      <td>-1523.199277</td>\n",
       "      <td>33.212865</td>\n",
       "      <td>86.208265</td>\n",
       "      <td>72.363067</td>\n",
       "      <td>119.529632</td>\n",
       "      <td>3.559130</td>\n",
       "      <td>6.472698</td>\n",
       "      <td>0.412946</td>\n",
       "      <td>0.567352</td>\n",
       "      <td>...</td>\n",
       "      <td>7.935824</td>\n",
       "      <td>1.365146</td>\n",
       "      <td>12.215580</td>\n",
       "      <td>8.784074</td>\n",
       "      <td>31.505324</td>\n",
       "      <td>1.858575</td>\n",
       "      <td>76.026165</td>\n",
       "      <td>56.614351</td>\n",
       "      <td>1.172358e+05</td>\n",
       "      <td>0.039569</td>\n",
       "    </tr>\n",
       "    <tr>\n",
       "      <th>std</th>\n",
       "      <td>43781.947379</td>\n",
       "      <td>39033.462364</td>\n",
       "      <td>12.956486</td>\n",
       "      <td>1614.757313</td>\n",
       "      <td>339.315831</td>\n",
       "      <td>546.266294</td>\n",
       "      <td>93.155749</td>\n",
       "      <td>153.737066</td>\n",
       "      <td>30.604864</td>\n",
       "      <td>36.513513</td>\n",
       "      <td>...</td>\n",
       "      <td>455.887218</td>\n",
       "      <td>113.959637</td>\n",
       "      <td>783.207399</td>\n",
       "      <td>538.439211</td>\n",
       "      <td>2013.125393</td>\n",
       "      <td>147.786584</td>\n",
       "      <td>4040.337842</td>\n",
       "      <td>2852.579397</td>\n",
       "      <td>1.826646e+05</td>\n",
       "      <td>0.194945</td>\n",
       "    </tr>\n",
       "    <tr>\n",
       "      <th>min</th>\n",
       "      <td>1.000000</td>\n",
       "      <td>-999999.000000</td>\n",
       "      <td>5.000000</td>\n",
       "      <td>0.000000</td>\n",
       "      <td>0.000000</td>\n",
       "      <td>0.000000</td>\n",
       "      <td>0.000000</td>\n",
       "      <td>0.000000</td>\n",
       "      <td>0.000000</td>\n",
       "      <td>0.000000</td>\n",
       "      <td>...</td>\n",
       "      <td>0.000000</td>\n",
       "      <td>0.000000</td>\n",
       "      <td>0.000000</td>\n",
       "      <td>0.000000</td>\n",
       "      <td>0.000000</td>\n",
       "      <td>0.000000</td>\n",
       "      <td>0.000000</td>\n",
       "      <td>0.000000</td>\n",
       "      <td>5.163750e+03</td>\n",
       "      <td>0.000000</td>\n",
       "    </tr>\n",
       "    <tr>\n",
       "      <th>25%</th>\n",
       "      <td>38104.750000</td>\n",
       "      <td>2.000000</td>\n",
       "      <td>23.000000</td>\n",
       "      <td>0.000000</td>\n",
       "      <td>0.000000</td>\n",
       "      <td>0.000000</td>\n",
       "      <td>0.000000</td>\n",
       "      <td>0.000000</td>\n",
       "      <td>0.000000</td>\n",
       "      <td>0.000000</td>\n",
       "      <td>...</td>\n",
       "      <td>0.000000</td>\n",
       "      <td>0.000000</td>\n",
       "      <td>0.000000</td>\n",
       "      <td>0.000000</td>\n",
       "      <td>0.000000</td>\n",
       "      <td>0.000000</td>\n",
       "      <td>0.000000</td>\n",
       "      <td>0.000000</td>\n",
       "      <td>6.787061e+04</td>\n",
       "      <td>0.000000</td>\n",
       "    </tr>\n",
       "    <tr>\n",
       "      <th>50%</th>\n",
       "      <td>76043.000000</td>\n",
       "      <td>2.000000</td>\n",
       "      <td>28.000000</td>\n",
       "      <td>0.000000</td>\n",
       "      <td>0.000000</td>\n",
       "      <td>0.000000</td>\n",
       "      <td>0.000000</td>\n",
       "      <td>0.000000</td>\n",
       "      <td>0.000000</td>\n",
       "      <td>0.000000</td>\n",
       "      <td>...</td>\n",
       "      <td>0.000000</td>\n",
       "      <td>0.000000</td>\n",
       "      <td>0.000000</td>\n",
       "      <td>0.000000</td>\n",
       "      <td>0.000000</td>\n",
       "      <td>0.000000</td>\n",
       "      <td>0.000000</td>\n",
       "      <td>0.000000</td>\n",
       "      <td>1.064092e+05</td>\n",
       "      <td>0.000000</td>\n",
       "    </tr>\n",
       "    <tr>\n",
       "      <th>75%</th>\n",
       "      <td>113748.750000</td>\n",
       "      <td>2.000000</td>\n",
       "      <td>40.000000</td>\n",
       "      <td>0.000000</td>\n",
       "      <td>0.000000</td>\n",
       "      <td>0.000000</td>\n",
       "      <td>0.000000</td>\n",
       "      <td>0.000000</td>\n",
       "      <td>0.000000</td>\n",
       "      <td>0.000000</td>\n",
       "      <td>...</td>\n",
       "      <td>0.000000</td>\n",
       "      <td>0.000000</td>\n",
       "      <td>0.000000</td>\n",
       "      <td>0.000000</td>\n",
       "      <td>0.000000</td>\n",
       "      <td>0.000000</td>\n",
       "      <td>0.000000</td>\n",
       "      <td>0.000000</td>\n",
       "      <td>1.187563e+05</td>\n",
       "      <td>0.000000</td>\n",
       "    </tr>\n",
       "    <tr>\n",
       "      <th>max</th>\n",
       "      <td>151838.000000</td>\n",
       "      <td>238.000000</td>\n",
       "      <td>105.000000</td>\n",
       "      <td>210000.000000</td>\n",
       "      <td>12888.030000</td>\n",
       "      <td>21024.810000</td>\n",
       "      <td>8237.820000</td>\n",
       "      <td>11073.570000</td>\n",
       "      <td>6600.000000</td>\n",
       "      <td>6600.000000</td>\n",
       "      <td>...</td>\n",
       "      <td>50003.880000</td>\n",
       "      <td>20385.720000</td>\n",
       "      <td>138831.630000</td>\n",
       "      <td>91778.730000</td>\n",
       "      <td>438329.220000</td>\n",
       "      <td>24650.010000</td>\n",
       "      <td>681462.900000</td>\n",
       "      <td>397884.300000</td>\n",
       "      <td>2.203474e+07</td>\n",
       "      <td>1.000000</td>\n",
       "    </tr>\n",
       "  </tbody>\n",
       "</table>\n",
       "<p>8 rows × 371 columns</p>\n",
       "</div>"
      ],
      "text/plain": [
       "                  ID           var3         var15  imp_ent_var16_ult1  \\\n",
       "count   76020.000000   76020.000000  76020.000000        76020.000000   \n",
       "mean    75964.050723   -1523.199277     33.212865           86.208265   \n",
       "std     43781.947379   39033.462364     12.956486         1614.757313   \n",
       "min         1.000000 -999999.000000      5.000000            0.000000   \n",
       "25%     38104.750000       2.000000     23.000000            0.000000   \n",
       "50%     76043.000000       2.000000     28.000000            0.000000   \n",
       "75%    113748.750000       2.000000     40.000000            0.000000   \n",
       "max    151838.000000     238.000000    105.000000       210000.000000   \n",
       "\n",
       "       imp_op_var39_comer_ult1  imp_op_var39_comer_ult3  \\\n",
       "count             76020.000000             76020.000000   \n",
       "mean                 72.363067               119.529632   \n",
       "std                 339.315831               546.266294   \n",
       "min                   0.000000                 0.000000   \n",
       "25%                   0.000000                 0.000000   \n",
       "50%                   0.000000                 0.000000   \n",
       "75%                   0.000000                 0.000000   \n",
       "max               12888.030000             21024.810000   \n",
       "\n",
       "       imp_op_var40_comer_ult1  imp_op_var40_comer_ult3  \\\n",
       "count             76020.000000             76020.000000   \n",
       "mean                  3.559130                 6.472698   \n",
       "std                  93.155749               153.737066   \n",
       "min                   0.000000                 0.000000   \n",
       "25%                   0.000000                 0.000000   \n",
       "50%                   0.000000                 0.000000   \n",
       "75%                   0.000000                 0.000000   \n",
       "max                8237.820000             11073.570000   \n",
       "\n",
       "       imp_op_var40_efect_ult1  imp_op_var40_efect_ult3  ...  \\\n",
       "count             76020.000000             76020.000000  ...   \n",
       "mean                  0.412946                 0.567352  ...   \n",
       "std                  30.604864                36.513513  ...   \n",
       "min                   0.000000                 0.000000  ...   \n",
       "25%                   0.000000                 0.000000  ...   \n",
       "50%                   0.000000                 0.000000  ...   \n",
       "75%                   0.000000                 0.000000  ...   \n",
       "max                6600.000000              6600.000000  ...   \n",
       "\n",
       "       saldo_medio_var33_hace2  saldo_medio_var33_hace3  \\\n",
       "count             76020.000000             76020.000000   \n",
       "mean                  7.935824                 1.365146   \n",
       "std                 455.887218               113.959637   \n",
       "min                   0.000000                 0.000000   \n",
       "25%                   0.000000                 0.000000   \n",
       "50%                   0.000000                 0.000000   \n",
       "75%                   0.000000                 0.000000   \n",
       "max               50003.880000             20385.720000   \n",
       "\n",
       "       saldo_medio_var33_ult1  saldo_medio_var33_ult3  \\\n",
       "count            76020.000000            76020.000000   \n",
       "mean                12.215580                8.784074   \n",
       "std                783.207399              538.439211   \n",
       "min                  0.000000                0.000000   \n",
       "25%                  0.000000                0.000000   \n",
       "50%                  0.000000                0.000000   \n",
       "75%                  0.000000                0.000000   \n",
       "max             138831.630000            91778.730000   \n",
       "\n",
       "       saldo_medio_var44_hace2  saldo_medio_var44_hace3  \\\n",
       "count             76020.000000             76020.000000   \n",
       "mean                 31.505324                 1.858575   \n",
       "std                2013.125393               147.786584   \n",
       "min                   0.000000                 0.000000   \n",
       "25%                   0.000000                 0.000000   \n",
       "50%                   0.000000                 0.000000   \n",
       "75%                   0.000000                 0.000000   \n",
       "max              438329.220000             24650.010000   \n",
       "\n",
       "       saldo_medio_var44_ult1  saldo_medio_var44_ult3         var38  \\\n",
       "count            76020.000000            76020.000000  7.602000e+04   \n",
       "mean                76.026165               56.614351  1.172358e+05   \n",
       "std               4040.337842             2852.579397  1.826646e+05   \n",
       "min                  0.000000                0.000000  5.163750e+03   \n",
       "25%                  0.000000                0.000000  6.787061e+04   \n",
       "50%                  0.000000                0.000000  1.064092e+05   \n",
       "75%                  0.000000                0.000000  1.187563e+05   \n",
       "max             681462.900000           397884.300000  2.203474e+07   \n",
       "\n",
       "             TARGET  \n",
       "count  76020.000000  \n",
       "mean       0.039569  \n",
       "std        0.194945  \n",
       "min        0.000000  \n",
       "25%        0.000000  \n",
       "50%        0.000000  \n",
       "75%        0.000000  \n",
       "max        1.000000  \n",
       "\n",
       "[8 rows x 371 columns]"
      ]
     },
     "execution_count": 5,
     "metadata": {},
     "output_type": "execute_result"
    }
   ],
   "source": [
    "# Verificando as informações estatísticas dos dados\n",
    "data.describe()"
   ]
  },
  {
   "cell_type": "code",
   "execution_count": 6,
   "metadata": {
    "scrolled": true
   },
   "outputs": [
    {
     "data": {
      "text/plain": [
       "TARGET                       0\n",
       "num_op_var41_ult1            0\n",
       "num_var26                    0\n",
       "num_var25_0                  0\n",
       "num_var25                    0\n",
       "num_op_var40_hace2           0\n",
       "num_op_var40_hace3           0\n",
       "num_op_var40_ult1            0\n",
       "num_op_var40_ult3            0\n",
       "num_op_var41_hace2           0\n",
       "num_op_var41_hace3           0\n",
       "num_op_var41_ult3            0\n",
       "num_var6_0                   0\n",
       "num_op_var39_hace2           0\n",
       "num_op_var39_hace3           0\n",
       "num_op_var39_ult1            0\n",
       "num_op_var39_ult3            0\n",
       "num_var27_0                  0\n",
       "num_var28_0                  0\n",
       "num_var28                    0\n",
       "num_var27                    0\n",
       "num_var29_0                  0\n",
       "num_var26_0                  0\n",
       "num_var24                    0\n",
       "num_var24_0                  0\n",
       "num_var20                    0\n",
       "num_var8_0                   0\n",
       "num_var8                     0\n",
       "num_var12_0                  0\n",
       "num_var12                    0\n",
       "                            ..\n",
       "num_var7_emit_ult1           0\n",
       "num_var7_recib_ult1          0\n",
       "num_compra_var44_hace3       0\n",
       "num_compra_var44_ult1        0\n",
       "num_ent_var16_ult1           0\n",
       "num_var22_hace2              0\n",
       "ind_var10cte_ult1            0\n",
       "ind_var7_recib_ult1          0\n",
       "imp_compra_var44_hace3       0\n",
       "ind_var7_emit_ult1           0\n",
       "imp_compra_var44_ult1        0\n",
       "imp_reemb_var13_hace3        0\n",
       "imp_reemb_var13_ult1         0\n",
       "imp_reemb_var17_hace3        0\n",
       "imp_reemb_var17_ult1         0\n",
       "imp_reemb_var33_hace3        0\n",
       "imp_reemb_var33_ult1         0\n",
       "imp_var43_emit_ult1          0\n",
       "imp_trans_var37_ult1         0\n",
       "imp_trasp_var17_in_hace3     0\n",
       "imp_trasp_var17_in_ult1      0\n",
       "imp_trasp_var17_out_hace3    0\n",
       "imp_trasp_var17_out_ult1     0\n",
       "imp_trasp_var33_in_hace3     0\n",
       "imp_trasp_var33_in_ult1      0\n",
       "imp_trasp_var33_out_hace3    0\n",
       "imp_trasp_var33_out_ult1     0\n",
       "imp_venta_var44_hace3        0\n",
       "imp_venta_var44_ult1         0\n",
       "ID                           0\n",
       "Length: 371, dtype: int64"
      ]
     },
     "execution_count": 6,
     "metadata": {},
     "output_type": "execute_result"
    }
   ],
   "source": [
    "# Verificando se há valores missing\n",
    "data.isnull().sum().sort_values(ascending = False)"
   ]
  },
  {
   "cell_type": "code",
   "execution_count": 7,
   "metadata": {},
   "outputs": [
    {
     "data": {
      "text/plain": [
       "False"
      ]
     },
     "execution_count": 7,
     "metadata": {},
     "output_type": "execute_result"
    }
   ],
   "source": [
    "# Verificando se há valores missing de outra forma\n",
    "data.isnull().values.any()"
   ]
  },
  {
   "cell_type": "markdown",
   "metadata": {},
   "source": [
    "Não há valores missing nos dados"
   ]
  },
  {
   "cell_type": "code",
   "execution_count": 8,
   "metadata": {},
   "outputs": [
    {
     "data": {
      "text/plain": [
       "ID                                 int64\n",
       "var3                               int64\n",
       "var15                              int64\n",
       "imp_ent_var16_ult1               float64\n",
       "imp_op_var39_comer_ult1          float64\n",
       "imp_op_var39_comer_ult3          float64\n",
       "imp_op_var40_comer_ult1          float64\n",
       "imp_op_var40_comer_ult3          float64\n",
       "imp_op_var40_efect_ult1          float64\n",
       "imp_op_var40_efect_ult3          float64\n",
       "imp_op_var40_ult1                float64\n",
       "imp_op_var41_comer_ult1          float64\n",
       "imp_op_var41_comer_ult3          float64\n",
       "imp_op_var41_efect_ult1          float64\n",
       "imp_op_var41_efect_ult3          float64\n",
       "imp_op_var41_ult1                float64\n",
       "imp_op_var39_efect_ult1          float64\n",
       "imp_op_var39_efect_ult3          float64\n",
       "imp_op_var39_ult1                float64\n",
       "imp_sal_var16_ult1               float64\n",
       "ind_var1_0                         int64\n",
       "ind_var1                           int64\n",
       "ind_var2_0                         int64\n",
       "ind_var2                           int64\n",
       "ind_var5_0                         int64\n",
       "ind_var5                           int64\n",
       "ind_var6_0                         int64\n",
       "ind_var6                           int64\n",
       "ind_var8_0                         int64\n",
       "ind_var8                           int64\n",
       "                                  ...   \n",
       "saldo_medio_var13_corto_hace2    float64\n",
       "saldo_medio_var13_corto_hace3    float64\n",
       "saldo_medio_var13_corto_ult1     float64\n",
       "saldo_medio_var13_corto_ult3     float64\n",
       "saldo_medio_var13_largo_hace2    float64\n",
       "saldo_medio_var13_largo_hace3    float64\n",
       "saldo_medio_var13_largo_ult1     float64\n",
       "saldo_medio_var13_largo_ult3     float64\n",
       "saldo_medio_var13_medio_hace2    float64\n",
       "saldo_medio_var13_medio_hace3      int64\n",
       "saldo_medio_var13_medio_ult1       int64\n",
       "saldo_medio_var13_medio_ult3     float64\n",
       "saldo_medio_var17_hace2          float64\n",
       "saldo_medio_var17_hace3          float64\n",
       "saldo_medio_var17_ult1           float64\n",
       "saldo_medio_var17_ult3           float64\n",
       "saldo_medio_var29_hace2          float64\n",
       "saldo_medio_var29_hace3          float64\n",
       "saldo_medio_var29_ult1           float64\n",
       "saldo_medio_var29_ult3           float64\n",
       "saldo_medio_var33_hace2          float64\n",
       "saldo_medio_var33_hace3          float64\n",
       "saldo_medio_var33_ult1           float64\n",
       "saldo_medio_var33_ult3           float64\n",
       "saldo_medio_var44_hace2          float64\n",
       "saldo_medio_var44_hace3          float64\n",
       "saldo_medio_var44_ult1           float64\n",
       "saldo_medio_var44_ult3           float64\n",
       "var38                            float64\n",
       "TARGET                             int64\n",
       "Length: 371, dtype: object"
      ]
     },
     "execution_count": 8,
     "metadata": {},
     "output_type": "execute_result"
    }
   ],
   "source": [
    "# Verificando os tipos das colunas\n",
    "data.dtypes"
   ]
  },
  {
   "cell_type": "code",
   "execution_count": 9,
   "metadata": {},
   "outputs": [
    {
     "name": "stdout",
     "output_type": "stream",
     "text": [
      "<class 'pandas.core.frame.DataFrame'>\n",
      "RangeIndex: 76020 entries, 0 to 76019\n",
      "Columns: 371 entries, ID to TARGET\n",
      "dtypes: float64(111), int64(260)\n",
      "memory usage: 215.2 MB\n"
     ]
    }
   ],
   "source": [
    "# Como há muitas colunas no dataset, com a função info é possível verificar um resumo dos dados\n",
    "# Há 371 colunas, sendo que 111 são do tipo float e 260 do tipo int, ou seja, todas as colunas possuem informação numérica\n",
    "data.info()"
   ]
  },
  {
   "cell_type": "markdown",
   "metadata": {},
   "source": [
    "Como o dataset é muito extenso, não é possível analisar a correlação das variáveis."
   ]
  },
  {
   "cell_type": "markdown",
   "metadata": {},
   "source": [
    "### Etapa 4 - Preparação dos dados\n",
    "Nesta etapa será feito o pré-processamento dos dados para que os mesmos estejam adequados para o algoritmo."
   ]
  },
  {
   "cell_type": "code",
   "execution_count": 10,
   "metadata": {},
   "outputs": [
    {
     "data": {
      "text/html": [
       "<div>\n",
       "<style scoped>\n",
       "    .dataframe tbody tr th:only-of-type {\n",
       "        vertical-align: middle;\n",
       "    }\n",
       "\n",
       "    .dataframe tbody tr th {\n",
       "        vertical-align: top;\n",
       "    }\n",
       "\n",
       "    .dataframe thead th {\n",
       "        text-align: right;\n",
       "    }\n",
       "</style>\n",
       "<table border=\"1\" class=\"dataframe\">\n",
       "  <thead>\n",
       "    <tr style=\"text-align: right;\">\n",
       "      <th></th>\n",
       "      <th>var3</th>\n",
       "      <th>var15</th>\n",
       "      <th>imp_ent_var16_ult1</th>\n",
       "      <th>imp_op_var39_comer_ult1</th>\n",
       "      <th>imp_op_var39_comer_ult3</th>\n",
       "      <th>imp_op_var40_comer_ult1</th>\n",
       "      <th>imp_op_var40_comer_ult3</th>\n",
       "      <th>imp_op_var40_efect_ult1</th>\n",
       "      <th>imp_op_var40_efect_ult3</th>\n",
       "      <th>imp_op_var40_ult1</th>\n",
       "      <th>...</th>\n",
       "      <th>saldo_medio_var29_ult3</th>\n",
       "      <th>saldo_medio_var33_hace2</th>\n",
       "      <th>saldo_medio_var33_hace3</th>\n",
       "      <th>saldo_medio_var33_ult1</th>\n",
       "      <th>saldo_medio_var33_ult3</th>\n",
       "      <th>saldo_medio_var44_hace2</th>\n",
       "      <th>saldo_medio_var44_hace3</th>\n",
       "      <th>saldo_medio_var44_ult1</th>\n",
       "      <th>saldo_medio_var44_ult3</th>\n",
       "      <th>var38</th>\n",
       "    </tr>\n",
       "  </thead>\n",
       "  <tbody>\n",
       "    <tr>\n",
       "      <th>0</th>\n",
       "      <td>2</td>\n",
       "      <td>23</td>\n",
       "      <td>0.0</td>\n",
       "      <td>0.0</td>\n",
       "      <td>0.0</td>\n",
       "      <td>0.0</td>\n",
       "      <td>0.0</td>\n",
       "      <td>0.0</td>\n",
       "      <td>0.0</td>\n",
       "      <td>0.0</td>\n",
       "      <td>...</td>\n",
       "      <td>0.0</td>\n",
       "      <td>0.0</td>\n",
       "      <td>0.0</td>\n",
       "      <td>0.0</td>\n",
       "      <td>0.0</td>\n",
       "      <td>0.0</td>\n",
       "      <td>0.0</td>\n",
       "      <td>0.0</td>\n",
       "      <td>0.0</td>\n",
       "      <td>39205.170000</td>\n",
       "    </tr>\n",
       "    <tr>\n",
       "      <th>1</th>\n",
       "      <td>2</td>\n",
       "      <td>34</td>\n",
       "      <td>0.0</td>\n",
       "      <td>0.0</td>\n",
       "      <td>0.0</td>\n",
       "      <td>0.0</td>\n",
       "      <td>0.0</td>\n",
       "      <td>0.0</td>\n",
       "      <td>0.0</td>\n",
       "      <td>0.0</td>\n",
       "      <td>...</td>\n",
       "      <td>0.0</td>\n",
       "      <td>0.0</td>\n",
       "      <td>0.0</td>\n",
       "      <td>0.0</td>\n",
       "      <td>0.0</td>\n",
       "      <td>0.0</td>\n",
       "      <td>0.0</td>\n",
       "      <td>0.0</td>\n",
       "      <td>0.0</td>\n",
       "      <td>49278.030000</td>\n",
       "    </tr>\n",
       "    <tr>\n",
       "      <th>2</th>\n",
       "      <td>2</td>\n",
       "      <td>23</td>\n",
       "      <td>0.0</td>\n",
       "      <td>0.0</td>\n",
       "      <td>0.0</td>\n",
       "      <td>0.0</td>\n",
       "      <td>0.0</td>\n",
       "      <td>0.0</td>\n",
       "      <td>0.0</td>\n",
       "      <td>0.0</td>\n",
       "      <td>...</td>\n",
       "      <td>0.0</td>\n",
       "      <td>0.0</td>\n",
       "      <td>0.0</td>\n",
       "      <td>0.0</td>\n",
       "      <td>0.0</td>\n",
       "      <td>0.0</td>\n",
       "      <td>0.0</td>\n",
       "      <td>0.0</td>\n",
       "      <td>0.0</td>\n",
       "      <td>67333.770000</td>\n",
       "    </tr>\n",
       "    <tr>\n",
       "      <th>3</th>\n",
       "      <td>2</td>\n",
       "      <td>37</td>\n",
       "      <td>0.0</td>\n",
       "      <td>195.0</td>\n",
       "      <td>195.0</td>\n",
       "      <td>0.0</td>\n",
       "      <td>0.0</td>\n",
       "      <td>0.0</td>\n",
       "      <td>0.0</td>\n",
       "      <td>0.0</td>\n",
       "      <td>...</td>\n",
       "      <td>0.0</td>\n",
       "      <td>0.0</td>\n",
       "      <td>0.0</td>\n",
       "      <td>0.0</td>\n",
       "      <td>0.0</td>\n",
       "      <td>0.0</td>\n",
       "      <td>0.0</td>\n",
       "      <td>0.0</td>\n",
       "      <td>0.0</td>\n",
       "      <td>64007.970000</td>\n",
       "    </tr>\n",
       "    <tr>\n",
       "      <th>4</th>\n",
       "      <td>2</td>\n",
       "      <td>39</td>\n",
       "      <td>0.0</td>\n",
       "      <td>0.0</td>\n",
       "      <td>0.0</td>\n",
       "      <td>0.0</td>\n",
       "      <td>0.0</td>\n",
       "      <td>0.0</td>\n",
       "      <td>0.0</td>\n",
       "      <td>0.0</td>\n",
       "      <td>...</td>\n",
       "      <td>0.0</td>\n",
       "      <td>0.0</td>\n",
       "      <td>0.0</td>\n",
       "      <td>0.0</td>\n",
       "      <td>0.0</td>\n",
       "      <td>0.0</td>\n",
       "      <td>0.0</td>\n",
       "      <td>0.0</td>\n",
       "      <td>0.0</td>\n",
       "      <td>117310.979016</td>\n",
       "    </tr>\n",
       "  </tbody>\n",
       "</table>\n",
       "<p>5 rows × 369 columns</p>\n",
       "</div>"
      ],
      "text/plain": [
       "   var3  var15  imp_ent_var16_ult1  imp_op_var39_comer_ult1  \\\n",
       "0     2     23                 0.0                      0.0   \n",
       "1     2     34                 0.0                      0.0   \n",
       "2     2     23                 0.0                      0.0   \n",
       "3     2     37                 0.0                    195.0   \n",
       "4     2     39                 0.0                      0.0   \n",
       "\n",
       "   imp_op_var39_comer_ult3  imp_op_var40_comer_ult1  imp_op_var40_comer_ult3  \\\n",
       "0                      0.0                      0.0                      0.0   \n",
       "1                      0.0                      0.0                      0.0   \n",
       "2                      0.0                      0.0                      0.0   \n",
       "3                    195.0                      0.0                      0.0   \n",
       "4                      0.0                      0.0                      0.0   \n",
       "\n",
       "   imp_op_var40_efect_ult1  imp_op_var40_efect_ult3  imp_op_var40_ult1  ...  \\\n",
       "0                      0.0                      0.0                0.0  ...   \n",
       "1                      0.0                      0.0                0.0  ...   \n",
       "2                      0.0                      0.0                0.0  ...   \n",
       "3                      0.0                      0.0                0.0  ...   \n",
       "4                      0.0                      0.0                0.0  ...   \n",
       "\n",
       "   saldo_medio_var29_ult3  saldo_medio_var33_hace2  saldo_medio_var33_hace3  \\\n",
       "0                     0.0                      0.0                      0.0   \n",
       "1                     0.0                      0.0                      0.0   \n",
       "2                     0.0                      0.0                      0.0   \n",
       "3                     0.0                      0.0                      0.0   \n",
       "4                     0.0                      0.0                      0.0   \n",
       "\n",
       "   saldo_medio_var33_ult1  saldo_medio_var33_ult3  saldo_medio_var44_hace2  \\\n",
       "0                     0.0                     0.0                      0.0   \n",
       "1                     0.0                     0.0                      0.0   \n",
       "2                     0.0                     0.0                      0.0   \n",
       "3                     0.0                     0.0                      0.0   \n",
       "4                     0.0                     0.0                      0.0   \n",
       "\n",
       "   saldo_medio_var44_hace3  saldo_medio_var44_ult1  saldo_medio_var44_ult3  \\\n",
       "0                      0.0                     0.0                     0.0   \n",
       "1                      0.0                     0.0                     0.0   \n",
       "2                      0.0                     0.0                     0.0   \n",
       "3                      0.0                     0.0                     0.0   \n",
       "4                      0.0                     0.0                     0.0   \n",
       "\n",
       "           var38  \n",
       "0   39205.170000  \n",
       "1   49278.030000  \n",
       "2   67333.770000  \n",
       "3   64007.970000  \n",
       "4  117310.979016  \n",
       "\n",
       "[5 rows x 369 columns]"
      ]
     },
     "execution_count": 10,
     "metadata": {},
     "output_type": "execute_result"
    }
   ],
   "source": [
    "# Retirando a primeira (ID) e a última (Target) coluna do dataset para aplicar a normalização\n",
    "data_int = data.iloc[:,1:370]; data_int.head()"
   ]
  },
  {
   "cell_type": "code",
   "execution_count": 11,
   "metadata": {},
   "outputs": [
    {
     "data": {
      "text/html": [
       "<div>\n",
       "<style scoped>\n",
       "    .dataframe tbody tr th:only-of-type {\n",
       "        vertical-align: middle;\n",
       "    }\n",
       "\n",
       "    .dataframe tbody tr th {\n",
       "        vertical-align: top;\n",
       "    }\n",
       "\n",
       "    .dataframe thead th {\n",
       "        text-align: right;\n",
       "    }\n",
       "</style>\n",
       "<table border=\"1\" class=\"dataframe\">\n",
       "  <thead>\n",
       "    <tr style=\"text-align: right;\">\n",
       "      <th></th>\n",
       "      <th>TARGET</th>\n",
       "    </tr>\n",
       "  </thead>\n",
       "  <tbody>\n",
       "    <tr>\n",
       "      <th>0</th>\n",
       "      <td>0</td>\n",
       "    </tr>\n",
       "    <tr>\n",
       "      <th>1</th>\n",
       "      <td>0</td>\n",
       "    </tr>\n",
       "    <tr>\n",
       "      <th>2</th>\n",
       "      <td>0</td>\n",
       "    </tr>\n",
       "    <tr>\n",
       "      <th>3</th>\n",
       "      <td>0</td>\n",
       "    </tr>\n",
       "    <tr>\n",
       "      <th>4</th>\n",
       "      <td>0</td>\n",
       "    </tr>\n",
       "  </tbody>\n",
       "</table>\n",
       "</div>"
      ],
      "text/plain": [
       "   TARGET\n",
       "0       0\n",
       "1       0\n",
       "2       0\n",
       "3       0\n",
       "4       0"
      ]
     },
     "execution_count": 11,
     "metadata": {},
     "output_type": "execute_result"
    }
   ],
   "source": [
    "# Separando os dados de saída\n",
    "data_out = data.iloc[:,370:]; data_out.head()"
   ]
  },
  {
   "cell_type": "code",
   "execution_count": 12,
   "metadata": {},
   "outputs": [
    {
     "data": {
      "text/plain": [
       "(76020, 1)"
      ]
     },
     "execution_count": 12,
     "metadata": {},
     "output_type": "execute_result"
    }
   ],
   "source": [
    "data_out.shape"
   ]
  },
  {
   "cell_type": "code",
   "execution_count": 13,
   "metadata": {},
   "outputs": [],
   "source": [
    "# Aplicando normalização aos dados de entrada:\n",
    "from sklearn.preprocessing import MinMaxScaler\n",
    "\n",
    "scaler = MinMaxScaler(feature_range = (0,1))\n",
    "data_norm = scaler.fit_transform(data_int)"
   ]
  },
  {
   "cell_type": "code",
   "execution_count": 14,
   "metadata": {},
   "outputs": [
    {
     "data": {
      "text/plain": [
       "array([[0.99976406, 0.18      , 0.        , ..., 0.        , 0.        ,\n",
       "        0.00154526],\n",
       "       [0.99976406, 0.29      , 0.        , ..., 0.        , 0.        ,\n",
       "        0.0020025 ],\n",
       "       [0.99976406, 0.18      , 0.        , ..., 0.        , 0.        ,\n",
       "        0.00282212],\n",
       "       ...,\n",
       "       [0.99976406, 0.18      , 0.        , ..., 0.        , 0.        ,\n",
       "        0.003126  ],\n",
       "       [0.99976406, 0.2       , 0.        , ..., 0.        , 0.        ,\n",
       "        0.00359128],\n",
       "       [0.99976406, 0.41      , 0.        , ..., 0.        , 0.        ,\n",
       "        0.00509076]])"
      ]
     },
     "execution_count": 14,
     "metadata": {},
     "output_type": "execute_result"
    }
   ],
   "source": [
    "# Verificando como ficaram os dados normalizados\n",
    "data_norm"
   ]
  },
  {
   "cell_type": "code",
   "execution_count": 15,
   "metadata": {},
   "outputs": [
    {
     "data": {
      "text/plain": [
       "(76020, 369)"
      ]
     },
     "execution_count": 15,
     "metadata": {},
     "output_type": "execute_result"
    }
   ],
   "source": [
    "data_norm.shape"
   ]
  },
  {
   "cell_type": "code",
   "execution_count": 16,
   "metadata": {},
   "outputs": [],
   "source": [
    "# Devido o dataset ser muito grande, será necessário fazer a redução de dimensionalidade utilizando o PCA \n",
    "# (Principal Component Analysis)\n",
    "# Como os dados já estão normalizados e todas as variáveis são numéricas, é possível aplicar o PCA\n",
    "\n",
    "# Carregando a função\n",
    "from sklearn.decomposition import PCA\n",
    "\n",
    "# Aplicando a função aos dados normalizados\n",
    "pca = PCA(n_components = 10)\n",
    "data_norm_PCA = pca.fit_transform(data_norm)"
   ]
  },
  {
   "cell_type": "code",
   "execution_count": 17,
   "metadata": {},
   "outputs": [
    {
     "name": "stdout",
     "output_type": "stream",
     "text": [
      "[0.27154664 0.19262329 0.10112909 0.08260766 0.06761694 0.06481698\n",
      " 0.03714281 0.02848089 0.01658167 0.0143028 ]\n",
      "[[ 1.73716195e-03  1.68017938e-02  4.44335017e-04 ...  9.31006583e-05\n",
      "   1.09829483e-04 -3.03090629e-04]\n",
      " [-4.63170932e-04  3.44300011e-02  2.83013338e-04 ...  6.73298145e-05\n",
      "   9.34273559e-05  1.90451384e-04]\n",
      " [ 6.45499373e-04  8.45067599e-02  5.17153279e-04 ...  6.43763836e-05\n",
      "   9.48995705e-05  3.88831412e-04]\n",
      " ...\n",
      " [ 1.81503134e-03  3.31636078e-03  2.37651185e-04 ... -2.33443778e-05\n",
      "  -3.26102077e-05  1.81546832e-04]\n",
      " [-4.33165109e-03  2.94411850e-03  1.16519245e-03 ...  4.33303810e-04\n",
      "   5.28398543e-04 -3.16448246e-04]\n",
      " [ 2.70994677e-03  4.71495851e-02 -3.80559727e-04 ...  8.84031956e-05\n",
      "   8.93119182e-05  7.04559734e-04]]\n"
     ]
    }
   ],
   "source": [
    "# Avaliando o resultado da aplicação\n",
    "print(pca.fit(data_norm).explained_variance_ratio_)\n",
    "print(pca.fit(data_norm).components_)"
   ]
  },
  {
   "cell_type": "code",
   "execution_count": 18,
   "metadata": {},
   "outputs": [
    {
     "data": {
      "text/plain": [
       "array([0.27154664, 0.46416992, 0.56529901, 0.64790667, 0.71552361,\n",
       "       0.78034059, 0.8174834 , 0.84596428, 0.86254595, 0.87684876])"
      ]
     },
     "execution_count": 18,
     "metadata": {},
     "output_type": "execute_result"
    }
   ],
   "source": [
    "# Verificando a variância acumulada\n",
    "pca.fit(data_norm).explained_variance_ratio_.cumsum()"
   ]
  },
  {
   "cell_type": "code",
   "execution_count": 19,
   "metadata": {},
   "outputs": [],
   "source": [
    "# Com a redução de 369 para 10 variáveis, foi possível explicar 87% dos dados. Para conseguir um maior percentual,\n",
    "# o nº de componentes será elevado de 10 para 20\n",
    "\n",
    "# Aplicando a função aos dados normalizados\n",
    "pca = PCA(n_components = 20)\n",
    "data_norm_PCA = pca.fit_transform(data_norm)"
   ]
  },
  {
   "cell_type": "code",
   "execution_count": 20,
   "metadata": {},
   "outputs": [
    {
     "name": "stdout",
     "output_type": "stream",
     "text": [
      "[0.27154664 0.19262329 0.10112909 0.08260766 0.06761694 0.06481698\n",
      " 0.03714281 0.02848089 0.01658167 0.0143028  0.01349128 0.01285434\n",
      " 0.00927508 0.00682029 0.0062179  0.00601429 0.0055771  0.00499381\n",
      " 0.00449094 0.00424287]\n",
      "[[ 1.73716195e-03  1.68017938e-02  4.44335017e-04 ...  9.31006583e-05\n",
      "   1.09829483e-04 -3.03090629e-04]\n",
      " [-4.63170932e-04  3.44300011e-02  2.83013338e-04 ...  6.73298145e-05\n",
      "   9.34273559e-05  1.90451384e-04]\n",
      " [ 6.45499373e-04  8.45067599e-02  5.17153279e-04 ...  6.43763835e-05\n",
      "   9.48995704e-05  3.88831412e-04]\n",
      " ...\n",
      " [-3.32412623e-03  2.40215816e-02  1.72843514e-04 ...  1.36863952e-02\n",
      "   1.76075720e-02  4.55447434e-04]\n",
      " [ 2.55490360e-03 -3.65909372e-01  6.12621284e-04 ...  2.42000013e-03\n",
      "   3.08246196e-03  2.61622987e-04]\n",
      " [ 3.64965846e-03 -5.99634218e-01 -3.46627860e-04 ...  5.76678294e-03\n",
      "   7.50377384e-03  4.64671865e-04]]\n"
     ]
    }
   ],
   "source": [
    "# Avaliando o resultado da aplicação\n",
    "print(pca.fit(data_norm).explained_variance_ratio_)\n",
    "print(pca.fit(data_norm).components_)"
   ]
  },
  {
   "cell_type": "code",
   "execution_count": 21,
   "metadata": {},
   "outputs": [
    {
     "data": {
      "text/plain": [
       "array([0.27154664, 0.46416992, 0.56529901, 0.64790667, 0.71552361,\n",
       "       0.78034059, 0.8174834 , 0.84596428, 0.86254595, 0.87684876,\n",
       "       0.89034003, 0.90319438, 0.91246946, 0.91928975, 0.92550765,\n",
       "       0.93152195, 0.93709905, 0.94209285, 0.94658379, 0.95082666])"
      ]
     },
     "execution_count": 21,
     "metadata": {},
     "output_type": "execute_result"
    }
   ],
   "source": [
    "# Verificando a variância acumulada\n",
    "pca.fit(data_norm).explained_variance_ratio_.cumsum()"
   ]
  },
  {
   "cell_type": "markdown",
   "metadata": {},
   "source": [
    "Aumentando o nº de componentes para 20, foi possível explicar 95% dos dados, sendo este percentual muito bom."
   ]
  },
  {
   "cell_type": "code",
   "execution_count": 22,
   "metadata": {},
   "outputs": [
    {
     "data": {
      "text/html": [
       "<div>\n",
       "<style scoped>\n",
       "    .dataframe tbody tr th:only-of-type {\n",
       "        vertical-align: middle;\n",
       "    }\n",
       "\n",
       "    .dataframe tbody tr th {\n",
       "        vertical-align: top;\n",
       "    }\n",
       "\n",
       "    .dataframe thead th {\n",
       "        text-align: right;\n",
       "    }\n",
       "</style>\n",
       "<table border=\"1\" class=\"dataframe\">\n",
       "  <thead>\n",
       "    <tr style=\"text-align: right;\">\n",
       "      <th></th>\n",
       "      <th>PCA1</th>\n",
       "      <th>PCA2</th>\n",
       "      <th>PCA3</th>\n",
       "      <th>PCA4</th>\n",
       "      <th>PCA5</th>\n",
       "      <th>PCA6</th>\n",
       "      <th>PCA7</th>\n",
       "      <th>PCA8</th>\n",
       "      <th>PCA9</th>\n",
       "      <th>PCA10</th>\n",
       "      <th>PCA11</th>\n",
       "      <th>PCA12</th>\n",
       "      <th>PCA13</th>\n",
       "      <th>PCA14</th>\n",
       "      <th>PCA15</th>\n",
       "      <th>PCA16</th>\n",
       "      <th>PCA17</th>\n",
       "      <th>PCA18</th>\n",
       "      <th>PCA19</th>\n",
       "      <th>PCA20</th>\n",
       "    </tr>\n",
       "  </thead>\n",
       "  <tbody>\n",
       "    <tr>\n",
       "      <th>0</th>\n",
       "      <td>-1.274542</td>\n",
       "      <td>0.375972</td>\n",
       "      <td>0.056829</td>\n",
       "      <td>-0.439875</td>\n",
       "      <td>-0.039916</td>\n",
       "      <td>-0.114012</td>\n",
       "      <td>-0.054436</td>\n",
       "      <td>-0.033986</td>\n",
       "      <td>-0.000646</td>\n",
       "      <td>-0.010634</td>\n",
       "      <td>-0.046661</td>\n",
       "      <td>0.002073</td>\n",
       "      <td>0.018142</td>\n",
       "      <td>-0.008006</td>\n",
       "      <td>-0.005842</td>\n",
       "      <td>0.033248</td>\n",
       "      <td>-0.017969</td>\n",
       "      <td>-0.020323</td>\n",
       "      <td>0.042172</td>\n",
       "      <td>0.070154</td>\n",
       "    </tr>\n",
       "    <tr>\n",
       "      <th>1</th>\n",
       "      <td>-0.108038</td>\n",
       "      <td>-0.048862</td>\n",
       "      <td>1.799190</td>\n",
       "      <td>0.203618</td>\n",
       "      <td>-1.327840</td>\n",
       "      <td>0.274607</td>\n",
       "      <td>-0.164000</td>\n",
       "      <td>-0.164823</td>\n",
       "      <td>-0.081474</td>\n",
       "      <td>-0.063830</td>\n",
       "      <td>0.022308</td>\n",
       "      <td>-0.001669</td>\n",
       "      <td>-0.476433</td>\n",
       "      <td>-0.154816</td>\n",
       "      <td>-0.104632</td>\n",
       "      <td>0.279494</td>\n",
       "      <td>0.020731</td>\n",
       "      <td>-0.103847</td>\n",
       "      <td>0.080055</td>\n",
       "      <td>0.171911</td>\n",
       "    </tr>\n",
       "    <tr>\n",
       "      <th>2</th>\n",
       "      <td>0.027935</td>\n",
       "      <td>-0.439468</td>\n",
       "      <td>-0.335930</td>\n",
       "      <td>-0.187874</td>\n",
       "      <td>-0.066789</td>\n",
       "      <td>0.081755</td>\n",
       "      <td>0.507333</td>\n",
       "      <td>0.414996</td>\n",
       "      <td>-0.005015</td>\n",
       "      <td>-0.008462</td>\n",
       "      <td>0.081818</td>\n",
       "      <td>-0.007557</td>\n",
       "      <td>-0.034232</td>\n",
       "      <td>-0.071125</td>\n",
       "      <td>-0.025873</td>\n",
       "      <td>0.023791</td>\n",
       "      <td>-0.148119</td>\n",
       "      <td>0.118204</td>\n",
       "      <td>-0.003082</td>\n",
       "      <td>-0.037072</td>\n",
       "    </tr>\n",
       "    <tr>\n",
       "      <th>3</th>\n",
       "      <td>1.427146</td>\n",
       "      <td>1.492291</td>\n",
       "      <td>-0.688243</td>\n",
       "      <td>0.024221</td>\n",
       "      <td>-0.671363</td>\n",
       "      <td>-0.843693</td>\n",
       "      <td>0.315254</td>\n",
       "      <td>-0.564295</td>\n",
       "      <td>-0.147847</td>\n",
       "      <td>-0.076420</td>\n",
       "      <td>0.113738</td>\n",
       "      <td>-0.032581</td>\n",
       "      <td>-0.027508</td>\n",
       "      <td>-0.311972</td>\n",
       "      <td>-0.056644</td>\n",
       "      <td>-0.139605</td>\n",
       "      <td>-0.070833</td>\n",
       "      <td>0.057861</td>\n",
       "      <td>0.002250</td>\n",
       "      <td>-0.011742</td>\n",
       "    </tr>\n",
       "    <tr>\n",
       "      <th>4</th>\n",
       "      <td>0.426464</td>\n",
       "      <td>0.122872</td>\n",
       "      <td>1.311621</td>\n",
       "      <td>0.190963</td>\n",
       "      <td>1.681094</td>\n",
       "      <td>-0.904324</td>\n",
       "      <td>-0.185651</td>\n",
       "      <td>0.363184</td>\n",
       "      <td>0.333842</td>\n",
       "      <td>-0.352784</td>\n",
       "      <td>0.028643</td>\n",
       "      <td>0.148596</td>\n",
       "      <td>-0.220520</td>\n",
       "      <td>0.300450</td>\n",
       "      <td>0.077625</td>\n",
       "      <td>0.278768</td>\n",
       "      <td>-0.281667</td>\n",
       "      <td>0.066714</td>\n",
       "      <td>-0.128093</td>\n",
       "      <td>-0.082723</td>\n",
       "    </tr>\n",
       "  </tbody>\n",
       "</table>\n",
       "</div>"
      ],
      "text/plain": [
       "       PCA1      PCA2      PCA3      PCA4      PCA5      PCA6      PCA7  \\\n",
       "0 -1.274542  0.375972  0.056829 -0.439875 -0.039916 -0.114012 -0.054436   \n",
       "1 -0.108038 -0.048862  1.799190  0.203618 -1.327840  0.274607 -0.164000   \n",
       "2  0.027935 -0.439468 -0.335930 -0.187874 -0.066789  0.081755  0.507333   \n",
       "3  1.427146  1.492291 -0.688243  0.024221 -0.671363 -0.843693  0.315254   \n",
       "4  0.426464  0.122872  1.311621  0.190963  1.681094 -0.904324 -0.185651   \n",
       "\n",
       "       PCA8      PCA9     PCA10     PCA11     PCA12     PCA13     PCA14  \\\n",
       "0 -0.033986 -0.000646 -0.010634 -0.046661  0.002073  0.018142 -0.008006   \n",
       "1 -0.164823 -0.081474 -0.063830  0.022308 -0.001669 -0.476433 -0.154816   \n",
       "2  0.414996 -0.005015 -0.008462  0.081818 -0.007557 -0.034232 -0.071125   \n",
       "3 -0.564295 -0.147847 -0.076420  0.113738 -0.032581 -0.027508 -0.311972   \n",
       "4  0.363184  0.333842 -0.352784  0.028643  0.148596 -0.220520  0.300450   \n",
       "\n",
       "      PCA15     PCA16     PCA17     PCA18     PCA19     PCA20  \n",
       "0 -0.005842  0.033248 -0.017969 -0.020323  0.042172  0.070154  \n",
       "1 -0.104632  0.279494  0.020731 -0.103847  0.080055  0.171911  \n",
       "2 -0.025873  0.023791 -0.148119  0.118204 -0.003082 -0.037072  \n",
       "3 -0.056644 -0.139605 -0.070833  0.057861  0.002250 -0.011742  \n",
       "4  0.077625  0.278768 -0.281667  0.066714 -0.128093 -0.082723  "
      ]
     },
     "execution_count": 22,
     "metadata": {},
     "output_type": "execute_result"
    }
   ],
   "source": [
    "# Transformando os dados em dataframe novamente para que possa ser treinado\n",
    "numeros = range(1,21)\n",
    "colunas = [\"PCA\"+ str(num) for num in numeros]\n",
    "data_pronto = pd.DataFrame(data = data_norm_PCA, columns = colunas)\n",
    "data_pronto.head()"
   ]
  },
  {
   "cell_type": "markdown",
   "metadata": {},
   "source": [
    "### Etapa 5 - Amostragem\n",
    "Nesta etapa os dados serão divididos em dados de treino e teste para que possa ter uma melhor perfomance do modelo de Machine Learning"
   ]
  },
  {
   "cell_type": "code",
   "execution_count": 23,
   "metadata": {},
   "outputs": [],
   "source": [
    "# Carregando a função de treino e teste\n",
    "from sklearn.model_selection import train_test_split\n",
    "\n",
    "# Definindo o tamanho da amostra de teste\n",
    "test_size = 0.3\n",
    "\n",
    "# Criando os conjuntos de dados de treino e teste sobre os dados modificados\n",
    "X_treino, X_teste, Y_treino, Y_teste = train_test_split(data_pronto, data_out, test_size = test_size)"
   ]
  },
  {
   "cell_type": "code",
   "execution_count": 24,
   "metadata": {},
   "outputs": [
    {
     "data": {
      "text/plain": [
       "(53214, 20)"
      ]
     },
     "execution_count": 24,
     "metadata": {},
     "output_type": "execute_result"
    }
   ],
   "source": [
    "# Conferindo o tamanho dos dados de treino\n",
    "X_treino.shape"
   ]
  },
  {
   "cell_type": "code",
   "execution_count": 25,
   "metadata": {},
   "outputs": [
    {
     "data": {
      "text/plain": [
       "(22806, 20)"
      ]
     },
     "execution_count": 25,
     "metadata": {},
     "output_type": "execute_result"
    }
   ],
   "source": [
    "# Conferindo o tamanho dos dados de teste\n",
    "X_teste.shape"
   ]
  },
  {
   "cell_type": "markdown",
   "metadata": {},
   "source": [
    "### Etapa 6 - Treinamento do Modelo\n",
    "Após toda a etapa de análise exploratória e pré-processamento dos dados, o modelo finalmente será criado"
   ]
  },
  {
   "cell_type": "code",
   "execution_count": 26,
   "metadata": {},
   "outputs": [
    {
     "name": "stderr",
     "output_type": "stream",
     "text": [
      "C:\\Users\\camil\\Anaconda3\\lib\\site-packages\\sklearn\\utils\\validation.py:63: DataConversionWarning: A column-vector y was passed when a 1d array was expected. Please change the shape of y to (n_samples, ), for example using ravel().\n",
      "  return f(*args, **kwargs)\n"
     ]
    },
    {
     "data": {
      "text/plain": [
       "LogisticRegression()"
      ]
     },
     "execution_count": 26,
     "metadata": {},
     "output_type": "execute_result"
    }
   ],
   "source": [
    "# Primeiramente, será utilizado o algoritmo de regressão logística, visto que os dados estão normalizados\n",
    "# e a classificação é binária\n",
    "\n",
    "# Importando o modelo\n",
    "from sklearn.linear_model import LogisticRegression\n",
    "\n",
    "# Criando o modelo\n",
    "modelo = LogisticRegression()\n",
    "modelo.fit(X_treino, Y_treino)"
   ]
  },
  {
   "cell_type": "markdown",
   "metadata": {},
   "source": [
    "### Etapa 7 - Avaliando o modelo\n",
    "Nesta etapa será verificada a acurácia do modelo"
   ]
  },
  {
   "cell_type": "code",
   "execution_count": 27,
   "metadata": {},
   "outputs": [
    {
     "name": "stdout",
     "output_type": "stream",
     "text": [
      "[[21939     1]\n",
      " [  865     1]]\n"
     ]
    }
   ],
   "source": [
    "# Verificando a acurácia com a Confusion Matrix\n",
    "\n",
    "# Importando a função\n",
    "from sklearn.metrics import accuracy_score, confusion_matrix, classification_report\n",
    "\n",
    "# Fazendo as previsões\n",
    "previsoes = modelo.predict(X_teste)\n",
    "\n",
    "# Construindo a Confusion Matrix\n",
    "CM = confusion_matrix(Y_teste, previsoes)\n",
    "\n",
    "# Imprimindo a Confusion Matrix\n",
    "print(CM)"
   ]
  },
  {
   "cell_type": "code",
   "execution_count": 28,
   "metadata": {},
   "outputs": [
    {
     "data": {
      "text/plain": [
       "0.962027536613172"
      ]
     },
     "execution_count": 28,
     "metadata": {},
     "output_type": "execute_result"
    }
   ],
   "source": [
    "# Calculando a acurácia\n",
    "accuracy_score(Y_teste, previsoes)"
   ]
  },
  {
   "cell_type": "code",
   "execution_count": 29,
   "metadata": {},
   "outputs": [
    {
     "name": "stdout",
     "output_type": "stream",
     "text": [
      "              precision    recall  f1-score   support\n",
      "\n",
      "           0       0.96      1.00      0.98     21940\n",
      "           1       0.50      0.00      0.00       866\n",
      "\n",
      "    accuracy                           0.96     22806\n",
      "   macro avg       0.73      0.50      0.49     22806\n",
      "weighted avg       0.94      0.96      0.94     22806\n",
      "\n"
     ]
    }
   ],
   "source": [
    "# Relatório de classificação\n",
    "print(classification_report(Y_teste, previsoes))"
   ]
  },
  {
   "cell_type": "markdown",
   "metadata": {},
   "source": [
    "Apesar da acurácia do modelo ter sido muito satisfatória (96%), pode-se prerceber com o relatório acima, que o modelo está enviesado, ou seja, aprendeu mais sobre uma classe do que da outra, visto que a classe 0 possuía muito mais dados (vide histograma apresentado no início do notebook).\n",
    "Agora será necessário seguir para a próxima etapa, a fim de otimizar a acurácia do modelo."
   ]
  },
  {
   "cell_type": "markdown",
   "metadata": {},
   "source": [
    "### Etapa 8 - Otimização do modelo\n",
    "Nesta etapa será feito o balanceamento dos dados, a fim de conseguir um melhor resultado do modelo."
   ]
  },
  {
   "cell_type": "code",
   "execution_count": 30,
   "metadata": {},
   "outputs": [
    {
     "data": {
      "text/html": [
       "<div>\n",
       "<style scoped>\n",
       "    .dataframe tbody tr th:only-of-type {\n",
       "        vertical-align: middle;\n",
       "    }\n",
       "\n",
       "    .dataframe tbody tr th {\n",
       "        vertical-align: top;\n",
       "    }\n",
       "\n",
       "    .dataframe thead th {\n",
       "        text-align: right;\n",
       "    }\n",
       "</style>\n",
       "<table border=\"1\" class=\"dataframe\">\n",
       "  <thead>\n",
       "    <tr style=\"text-align: right;\">\n",
       "      <th></th>\n",
       "      <th>PCA1</th>\n",
       "      <th>PCA2</th>\n",
       "      <th>PCA3</th>\n",
       "      <th>PCA4</th>\n",
       "      <th>PCA5</th>\n",
       "      <th>PCA6</th>\n",
       "      <th>PCA7</th>\n",
       "      <th>PCA8</th>\n",
       "      <th>PCA9</th>\n",
       "      <th>PCA10</th>\n",
       "      <th>...</th>\n",
       "      <th>PCA12</th>\n",
       "      <th>PCA13</th>\n",
       "      <th>PCA14</th>\n",
       "      <th>PCA15</th>\n",
       "      <th>PCA16</th>\n",
       "      <th>PCA17</th>\n",
       "      <th>PCA18</th>\n",
       "      <th>PCA19</th>\n",
       "      <th>PCA20</th>\n",
       "      <th>TARGET</th>\n",
       "    </tr>\n",
       "  </thead>\n",
       "  <tbody>\n",
       "    <tr>\n",
       "      <th>0</th>\n",
       "      <td>-1.274542</td>\n",
       "      <td>0.375972</td>\n",
       "      <td>0.056829</td>\n",
       "      <td>-0.439875</td>\n",
       "      <td>-0.039916</td>\n",
       "      <td>-0.114012</td>\n",
       "      <td>-0.054436</td>\n",
       "      <td>-0.033986</td>\n",
       "      <td>-0.000646</td>\n",
       "      <td>-0.010634</td>\n",
       "      <td>...</td>\n",
       "      <td>0.002073</td>\n",
       "      <td>0.018142</td>\n",
       "      <td>-0.008006</td>\n",
       "      <td>-0.005842</td>\n",
       "      <td>0.033248</td>\n",
       "      <td>-0.017969</td>\n",
       "      <td>-0.020323</td>\n",
       "      <td>0.042172</td>\n",
       "      <td>0.070154</td>\n",
       "      <td>0</td>\n",
       "    </tr>\n",
       "    <tr>\n",
       "      <th>1</th>\n",
       "      <td>-0.108038</td>\n",
       "      <td>-0.048862</td>\n",
       "      <td>1.799190</td>\n",
       "      <td>0.203618</td>\n",
       "      <td>-1.327840</td>\n",
       "      <td>0.274607</td>\n",
       "      <td>-0.164000</td>\n",
       "      <td>-0.164823</td>\n",
       "      <td>-0.081474</td>\n",
       "      <td>-0.063830</td>\n",
       "      <td>...</td>\n",
       "      <td>-0.001669</td>\n",
       "      <td>-0.476433</td>\n",
       "      <td>-0.154816</td>\n",
       "      <td>-0.104632</td>\n",
       "      <td>0.279494</td>\n",
       "      <td>0.020731</td>\n",
       "      <td>-0.103847</td>\n",
       "      <td>0.080055</td>\n",
       "      <td>0.171911</td>\n",
       "      <td>0</td>\n",
       "    </tr>\n",
       "    <tr>\n",
       "      <th>2</th>\n",
       "      <td>0.027935</td>\n",
       "      <td>-0.439468</td>\n",
       "      <td>-0.335930</td>\n",
       "      <td>-0.187874</td>\n",
       "      <td>-0.066789</td>\n",
       "      <td>0.081755</td>\n",
       "      <td>0.507333</td>\n",
       "      <td>0.414996</td>\n",
       "      <td>-0.005015</td>\n",
       "      <td>-0.008462</td>\n",
       "      <td>...</td>\n",
       "      <td>-0.007557</td>\n",
       "      <td>-0.034232</td>\n",
       "      <td>-0.071125</td>\n",
       "      <td>-0.025873</td>\n",
       "      <td>0.023791</td>\n",
       "      <td>-0.148119</td>\n",
       "      <td>0.118204</td>\n",
       "      <td>-0.003082</td>\n",
       "      <td>-0.037072</td>\n",
       "      <td>0</td>\n",
       "    </tr>\n",
       "    <tr>\n",
       "      <th>3</th>\n",
       "      <td>1.427146</td>\n",
       "      <td>1.492291</td>\n",
       "      <td>-0.688243</td>\n",
       "      <td>0.024221</td>\n",
       "      <td>-0.671363</td>\n",
       "      <td>-0.843693</td>\n",
       "      <td>0.315254</td>\n",
       "      <td>-0.564295</td>\n",
       "      <td>-0.147847</td>\n",
       "      <td>-0.076420</td>\n",
       "      <td>...</td>\n",
       "      <td>-0.032581</td>\n",
       "      <td>-0.027508</td>\n",
       "      <td>-0.311972</td>\n",
       "      <td>-0.056644</td>\n",
       "      <td>-0.139605</td>\n",
       "      <td>-0.070833</td>\n",
       "      <td>0.057861</td>\n",
       "      <td>0.002250</td>\n",
       "      <td>-0.011742</td>\n",
       "      <td>0</td>\n",
       "    </tr>\n",
       "    <tr>\n",
       "      <th>4</th>\n",
       "      <td>0.426464</td>\n",
       "      <td>0.122872</td>\n",
       "      <td>1.311621</td>\n",
       "      <td>0.190963</td>\n",
       "      <td>1.681094</td>\n",
       "      <td>-0.904324</td>\n",
       "      <td>-0.185651</td>\n",
       "      <td>0.363184</td>\n",
       "      <td>0.333842</td>\n",
       "      <td>-0.352784</td>\n",
       "      <td>...</td>\n",
       "      <td>0.148596</td>\n",
       "      <td>-0.220520</td>\n",
       "      <td>0.300450</td>\n",
       "      <td>0.077625</td>\n",
       "      <td>0.278768</td>\n",
       "      <td>-0.281667</td>\n",
       "      <td>0.066714</td>\n",
       "      <td>-0.128093</td>\n",
       "      <td>-0.082723</td>\n",
       "      <td>0</td>\n",
       "    </tr>\n",
       "  </tbody>\n",
       "</table>\n",
       "<p>5 rows × 21 columns</p>\n",
       "</div>"
      ],
      "text/plain": [
       "       PCA1      PCA2      PCA3      PCA4      PCA5      PCA6      PCA7  \\\n",
       "0 -1.274542  0.375972  0.056829 -0.439875 -0.039916 -0.114012 -0.054436   \n",
       "1 -0.108038 -0.048862  1.799190  0.203618 -1.327840  0.274607 -0.164000   \n",
       "2  0.027935 -0.439468 -0.335930 -0.187874 -0.066789  0.081755  0.507333   \n",
       "3  1.427146  1.492291 -0.688243  0.024221 -0.671363 -0.843693  0.315254   \n",
       "4  0.426464  0.122872  1.311621  0.190963  1.681094 -0.904324 -0.185651   \n",
       "\n",
       "       PCA8      PCA9     PCA10  ...     PCA12     PCA13     PCA14     PCA15  \\\n",
       "0 -0.033986 -0.000646 -0.010634  ...  0.002073  0.018142 -0.008006 -0.005842   \n",
       "1 -0.164823 -0.081474 -0.063830  ... -0.001669 -0.476433 -0.154816 -0.104632   \n",
       "2  0.414996 -0.005015 -0.008462  ... -0.007557 -0.034232 -0.071125 -0.025873   \n",
       "3 -0.564295 -0.147847 -0.076420  ... -0.032581 -0.027508 -0.311972 -0.056644   \n",
       "4  0.363184  0.333842 -0.352784  ...  0.148596 -0.220520  0.300450  0.077625   \n",
       "\n",
       "      PCA16     PCA17     PCA18     PCA19     PCA20  TARGET  \n",
       "0  0.033248 -0.017969 -0.020323  0.042172  0.070154       0  \n",
       "1  0.279494  0.020731 -0.103847  0.080055  0.171911       0  \n",
       "2  0.023791 -0.148119  0.118204 -0.003082 -0.037072       0  \n",
       "3 -0.139605 -0.070833  0.057861  0.002250 -0.011742       0  \n",
       "4  0.278768 -0.281667  0.066714 -0.128093 -0.082723       0  \n",
       "\n",
       "[5 rows x 21 columns]"
      ]
     },
     "execution_count": 30,
     "metadata": {},
     "output_type": "execute_result"
    }
   ],
   "source": [
    "# Primeiro será gerado um novo dataset com os dados do PCA. Para isso a variável target, presente no dataset \"data_out\"\n",
    "# será concatenada com o dataset com o PCA aplicado \"data_pronto\"\n",
    "\n",
    "# Concatenando os datasets\n",
    "data2 = pd.concat([data_pronto, data_out], axis = 1)\n",
    "data2.head()"
   ]
  },
  {
   "cell_type": "code",
   "execution_count": 31,
   "metadata": {},
   "outputs": [
    {
     "data": {
      "text/plain": [
       "(76020, 21)"
      ]
     },
     "execution_count": 31,
     "metadata": {},
     "output_type": "execute_result"
    }
   ],
   "source": [
    "# Verificando o tamamnho do novo dataset\n",
    "data2.shape"
   ]
  },
  {
   "cell_type": "markdown",
   "metadata": {},
   "source": [
    "Para o balanceamento das classes será utilizado o método Smote, que consiste em gerar dados sintéticos (não duplicados) da classe minoritária a partir de vizinhos. \n",
    "\n",
    "Porém, como a diferença entre as classes está muito grande (73012 x 3008),primeiramente os dados da classe 0 serão reduzidos de forma aleatória para 20000 e depois as mesmas serão igualadas.\n",
    "Logo, teremos um novo dataset com, em torno de, 40000 observações."
   ]
  },
  {
   "cell_type": "code",
   "execution_count": 32,
   "metadata": {},
   "outputs": [
    {
     "data": {
      "text/html": [
       "<div>\n",
       "<style scoped>\n",
       "    .dataframe tbody tr th:only-of-type {\n",
       "        vertical-align: middle;\n",
       "    }\n",
       "\n",
       "    .dataframe tbody tr th {\n",
       "        vertical-align: top;\n",
       "    }\n",
       "\n",
       "    .dataframe thead th {\n",
       "        text-align: right;\n",
       "    }\n",
       "</style>\n",
       "<table border=\"1\" class=\"dataframe\">\n",
       "  <thead>\n",
       "    <tr style=\"text-align: right;\">\n",
       "      <th></th>\n",
       "      <th>PCA1</th>\n",
       "      <th>PCA2</th>\n",
       "      <th>PCA3</th>\n",
       "      <th>PCA4</th>\n",
       "      <th>PCA5</th>\n",
       "      <th>PCA6</th>\n",
       "      <th>PCA7</th>\n",
       "      <th>PCA8</th>\n",
       "      <th>PCA9</th>\n",
       "      <th>PCA10</th>\n",
       "      <th>...</th>\n",
       "      <th>PCA12</th>\n",
       "      <th>PCA13</th>\n",
       "      <th>PCA14</th>\n",
       "      <th>PCA15</th>\n",
       "      <th>PCA16</th>\n",
       "      <th>PCA17</th>\n",
       "      <th>PCA18</th>\n",
       "      <th>PCA19</th>\n",
       "      <th>PCA20</th>\n",
       "      <th>TARGET</th>\n",
       "    </tr>\n",
       "  </thead>\n",
       "  <tbody>\n",
       "    <tr>\n",
       "      <th>0</th>\n",
       "      <td>-1.274542</td>\n",
       "      <td>0.375972</td>\n",
       "      <td>0.056829</td>\n",
       "      <td>-0.439875</td>\n",
       "      <td>-0.039916</td>\n",
       "      <td>-0.114012</td>\n",
       "      <td>-0.054436</td>\n",
       "      <td>-0.033986</td>\n",
       "      <td>-0.000646</td>\n",
       "      <td>-0.010634</td>\n",
       "      <td>...</td>\n",
       "      <td>0.002073</td>\n",
       "      <td>0.018142</td>\n",
       "      <td>-0.008006</td>\n",
       "      <td>-0.005842</td>\n",
       "      <td>0.033248</td>\n",
       "      <td>-0.017969</td>\n",
       "      <td>-0.020323</td>\n",
       "      <td>0.042172</td>\n",
       "      <td>0.070154</td>\n",
       "      <td>0</td>\n",
       "    </tr>\n",
       "    <tr>\n",
       "      <th>1</th>\n",
       "      <td>-0.108038</td>\n",
       "      <td>-0.048862</td>\n",
       "      <td>1.799190</td>\n",
       "      <td>0.203618</td>\n",
       "      <td>-1.327840</td>\n",
       "      <td>0.274607</td>\n",
       "      <td>-0.164000</td>\n",
       "      <td>-0.164823</td>\n",
       "      <td>-0.081474</td>\n",
       "      <td>-0.063830</td>\n",
       "      <td>...</td>\n",
       "      <td>-0.001669</td>\n",
       "      <td>-0.476433</td>\n",
       "      <td>-0.154816</td>\n",
       "      <td>-0.104632</td>\n",
       "      <td>0.279494</td>\n",
       "      <td>0.020731</td>\n",
       "      <td>-0.103847</td>\n",
       "      <td>0.080055</td>\n",
       "      <td>0.171911</td>\n",
       "      <td>0</td>\n",
       "    </tr>\n",
       "    <tr>\n",
       "      <th>2</th>\n",
       "      <td>0.027935</td>\n",
       "      <td>-0.439468</td>\n",
       "      <td>-0.335930</td>\n",
       "      <td>-0.187874</td>\n",
       "      <td>-0.066789</td>\n",
       "      <td>0.081755</td>\n",
       "      <td>0.507333</td>\n",
       "      <td>0.414996</td>\n",
       "      <td>-0.005015</td>\n",
       "      <td>-0.008462</td>\n",
       "      <td>...</td>\n",
       "      <td>-0.007557</td>\n",
       "      <td>-0.034232</td>\n",
       "      <td>-0.071125</td>\n",
       "      <td>-0.025873</td>\n",
       "      <td>0.023791</td>\n",
       "      <td>-0.148119</td>\n",
       "      <td>0.118204</td>\n",
       "      <td>-0.003082</td>\n",
       "      <td>-0.037072</td>\n",
       "      <td>0</td>\n",
       "    </tr>\n",
       "    <tr>\n",
       "      <th>3</th>\n",
       "      <td>1.427146</td>\n",
       "      <td>1.492291</td>\n",
       "      <td>-0.688243</td>\n",
       "      <td>0.024221</td>\n",
       "      <td>-0.671363</td>\n",
       "      <td>-0.843693</td>\n",
       "      <td>0.315254</td>\n",
       "      <td>-0.564295</td>\n",
       "      <td>-0.147847</td>\n",
       "      <td>-0.076420</td>\n",
       "      <td>...</td>\n",
       "      <td>-0.032581</td>\n",
       "      <td>-0.027508</td>\n",
       "      <td>-0.311972</td>\n",
       "      <td>-0.056644</td>\n",
       "      <td>-0.139605</td>\n",
       "      <td>-0.070833</td>\n",
       "      <td>0.057861</td>\n",
       "      <td>0.002250</td>\n",
       "      <td>-0.011742</td>\n",
       "      <td>0</td>\n",
       "    </tr>\n",
       "    <tr>\n",
       "      <th>4</th>\n",
       "      <td>0.426464</td>\n",
       "      <td>0.122872</td>\n",
       "      <td>1.311621</td>\n",
       "      <td>0.190963</td>\n",
       "      <td>1.681094</td>\n",
       "      <td>-0.904324</td>\n",
       "      <td>-0.185651</td>\n",
       "      <td>0.363184</td>\n",
       "      <td>0.333842</td>\n",
       "      <td>-0.352784</td>\n",
       "      <td>...</td>\n",
       "      <td>0.148596</td>\n",
       "      <td>-0.220520</td>\n",
       "      <td>0.300450</td>\n",
       "      <td>0.077625</td>\n",
       "      <td>0.278768</td>\n",
       "      <td>-0.281667</td>\n",
       "      <td>0.066714</td>\n",
       "      <td>-0.128093</td>\n",
       "      <td>-0.082723</td>\n",
       "      <td>0</td>\n",
       "    </tr>\n",
       "  </tbody>\n",
       "</table>\n",
       "<p>5 rows × 21 columns</p>\n",
       "</div>"
      ],
      "text/plain": [
       "       PCA1      PCA2      PCA3      PCA4      PCA5      PCA6      PCA7  \\\n",
       "0 -1.274542  0.375972  0.056829 -0.439875 -0.039916 -0.114012 -0.054436   \n",
       "1 -0.108038 -0.048862  1.799190  0.203618 -1.327840  0.274607 -0.164000   \n",
       "2  0.027935 -0.439468 -0.335930 -0.187874 -0.066789  0.081755  0.507333   \n",
       "3  1.427146  1.492291 -0.688243  0.024221 -0.671363 -0.843693  0.315254   \n",
       "4  0.426464  0.122872  1.311621  0.190963  1.681094 -0.904324 -0.185651   \n",
       "\n",
       "       PCA8      PCA9     PCA10  ...     PCA12     PCA13     PCA14     PCA15  \\\n",
       "0 -0.033986 -0.000646 -0.010634  ...  0.002073  0.018142 -0.008006 -0.005842   \n",
       "1 -0.164823 -0.081474 -0.063830  ... -0.001669 -0.476433 -0.154816 -0.104632   \n",
       "2  0.414996 -0.005015 -0.008462  ... -0.007557 -0.034232 -0.071125 -0.025873   \n",
       "3 -0.564295 -0.147847 -0.076420  ... -0.032581 -0.027508 -0.311972 -0.056644   \n",
       "4  0.363184  0.333842 -0.352784  ...  0.148596 -0.220520  0.300450  0.077625   \n",
       "\n",
       "      PCA16     PCA17     PCA18     PCA19     PCA20  TARGET  \n",
       "0  0.033248 -0.017969 -0.020323  0.042172  0.070154       0  \n",
       "1  0.279494  0.020731 -0.103847  0.080055  0.171911       0  \n",
       "2  0.023791 -0.148119  0.118204 -0.003082 -0.037072       0  \n",
       "3 -0.139605 -0.070833  0.057861  0.002250 -0.011742       0  \n",
       "4  0.278768 -0.281667  0.066714 -0.128093 -0.082723       0  \n",
       "\n",
       "[5 rows x 21 columns]"
      ]
     },
     "execution_count": 32,
     "metadata": {},
     "output_type": "execute_result"
    }
   ],
   "source": [
    "# Separando o dataset da classe 0\n",
    "data_classe0 = data2[data2[\"TARGET\"] == 0]\n",
    "data_classe0.head()"
   ]
  },
  {
   "cell_type": "code",
   "execution_count": 33,
   "metadata": {},
   "outputs": [
    {
     "data": {
      "text/html": [
       "<div>\n",
       "<style scoped>\n",
       "    .dataframe tbody tr th:only-of-type {\n",
       "        vertical-align: middle;\n",
       "    }\n",
       "\n",
       "    .dataframe tbody tr th {\n",
       "        vertical-align: top;\n",
       "    }\n",
       "\n",
       "    .dataframe thead th {\n",
       "        text-align: right;\n",
       "    }\n",
       "</style>\n",
       "<table border=\"1\" class=\"dataframe\">\n",
       "  <thead>\n",
       "    <tr style=\"text-align: right;\">\n",
       "      <th></th>\n",
       "      <th>PCA1</th>\n",
       "      <th>PCA2</th>\n",
       "      <th>PCA3</th>\n",
       "      <th>PCA4</th>\n",
       "      <th>PCA5</th>\n",
       "      <th>PCA6</th>\n",
       "      <th>PCA7</th>\n",
       "      <th>PCA8</th>\n",
       "      <th>PCA9</th>\n",
       "      <th>PCA10</th>\n",
       "      <th>...</th>\n",
       "      <th>PCA12</th>\n",
       "      <th>PCA13</th>\n",
       "      <th>PCA14</th>\n",
       "      <th>PCA15</th>\n",
       "      <th>PCA16</th>\n",
       "      <th>PCA17</th>\n",
       "      <th>PCA18</th>\n",
       "      <th>PCA19</th>\n",
       "      <th>PCA20</th>\n",
       "      <th>TARGET</th>\n",
       "    </tr>\n",
       "  </thead>\n",
       "  <tbody>\n",
       "    <tr>\n",
       "      <th>31</th>\n",
       "      <td>-1.267317</td>\n",
       "      <td>0.390777</td>\n",
       "      <td>0.093167</td>\n",
       "      <td>-0.430282</td>\n",
       "      <td>-0.041534</td>\n",
       "      <td>-0.128998</td>\n",
       "      <td>-0.063192</td>\n",
       "      <td>-0.032560</td>\n",
       "      <td>0.000620</td>\n",
       "      <td>0.009642</td>\n",
       "      <td>...</td>\n",
       "      <td>0.057488</td>\n",
       "      <td>-0.011580</td>\n",
       "      <td>0.012405</td>\n",
       "      <td>0.042698</td>\n",
       "      <td>-0.134967</td>\n",
       "      <td>0.138209</td>\n",
       "      <td>-0.009994</td>\n",
       "      <td>-0.115179</td>\n",
       "      <td>-0.187693</td>\n",
       "      <td>1</td>\n",
       "    </tr>\n",
       "    <tr>\n",
       "      <th>80</th>\n",
       "      <td>1.688770</td>\n",
       "      <td>1.712700</td>\n",
       "      <td>-0.498231</td>\n",
       "      <td>-0.057749</td>\n",
       "      <td>-0.389719</td>\n",
       "      <td>-1.115037</td>\n",
       "      <td>-0.473546</td>\n",
       "      <td>0.295346</td>\n",
       "      <td>0.336682</td>\n",
       "      <td>-0.334773</td>\n",
       "      <td>...</td>\n",
       "      <td>0.028735</td>\n",
       "      <td>0.003237</td>\n",
       "      <td>-0.196109</td>\n",
       "      <td>-0.055849</td>\n",
       "      <td>-0.039107</td>\n",
       "      <td>0.106414</td>\n",
       "      <td>-0.139590</td>\n",
       "      <td>-0.080161</td>\n",
       "      <td>0.024956</td>\n",
       "      <td>1</td>\n",
       "    </tr>\n",
       "    <tr>\n",
       "      <th>122</th>\n",
       "      <td>0.777089</td>\n",
       "      <td>-0.465007</td>\n",
       "      <td>1.450356</td>\n",
       "      <td>0.377925</td>\n",
       "      <td>-1.188342</td>\n",
       "      <td>0.072688</td>\n",
       "      <td>-0.481419</td>\n",
       "      <td>0.783362</td>\n",
       "      <td>-0.345417</td>\n",
       "      <td>0.125250</td>\n",
       "      <td>...</td>\n",
       "      <td>0.231449</td>\n",
       "      <td>-0.476991</td>\n",
       "      <td>-0.104173</td>\n",
       "      <td>-0.043055</td>\n",
       "      <td>0.219018</td>\n",
       "      <td>-0.216965</td>\n",
       "      <td>0.236151</td>\n",
       "      <td>0.078718</td>\n",
       "      <td>-0.057319</td>\n",
       "      <td>1</td>\n",
       "    </tr>\n",
       "    <tr>\n",
       "      <th>162</th>\n",
       "      <td>-1.549024</td>\n",
       "      <td>0.354799</td>\n",
       "      <td>-0.325074</td>\n",
       "      <td>1.050530</td>\n",
       "      <td>-0.081979</td>\n",
       "      <td>-0.151594</td>\n",
       "      <td>-0.039737</td>\n",
       "      <td>0.037163</td>\n",
       "      <td>0.016902</td>\n",
       "      <td>-0.032761</td>\n",
       "      <td>...</td>\n",
       "      <td>0.025300</td>\n",
       "      <td>-0.027439</td>\n",
       "      <td>0.034971</td>\n",
       "      <td>0.030247</td>\n",
       "      <td>-0.041550</td>\n",
       "      <td>-0.015170</td>\n",
       "      <td>-0.019821</td>\n",
       "      <td>0.023047</td>\n",
       "      <td>0.032352</td>\n",
       "      <td>1</td>\n",
       "    </tr>\n",
       "    <tr>\n",
       "      <th>163</th>\n",
       "      <td>-1.267704</td>\n",
       "      <td>0.389637</td>\n",
       "      <td>0.090146</td>\n",
       "      <td>-0.431115</td>\n",
       "      <td>-0.041318</td>\n",
       "      <td>-0.127784</td>\n",
       "      <td>-0.062631</td>\n",
       "      <td>-0.032452</td>\n",
       "      <td>0.000906</td>\n",
       "      <td>0.007761</td>\n",
       "      <td>...</td>\n",
       "      <td>0.052481</td>\n",
       "      <td>-0.008802</td>\n",
       "      <td>0.011174</td>\n",
       "      <td>0.038244</td>\n",
       "      <td>-0.119595</td>\n",
       "      <td>0.124521</td>\n",
       "      <td>-0.010602</td>\n",
       "      <td>-0.100033</td>\n",
       "      <td>-0.163663</td>\n",
       "      <td>1</td>\n",
       "    </tr>\n",
       "  </tbody>\n",
       "</table>\n",
       "<p>5 rows × 21 columns</p>\n",
       "</div>"
      ],
      "text/plain": [
       "         PCA1      PCA2      PCA3      PCA4      PCA5      PCA6      PCA7  \\\n",
       "31  -1.267317  0.390777  0.093167 -0.430282 -0.041534 -0.128998 -0.063192   \n",
       "80   1.688770  1.712700 -0.498231 -0.057749 -0.389719 -1.115037 -0.473546   \n",
       "122  0.777089 -0.465007  1.450356  0.377925 -1.188342  0.072688 -0.481419   \n",
       "162 -1.549024  0.354799 -0.325074  1.050530 -0.081979 -0.151594 -0.039737   \n",
       "163 -1.267704  0.389637  0.090146 -0.431115 -0.041318 -0.127784 -0.062631   \n",
       "\n",
       "         PCA8      PCA9     PCA10  ...     PCA12     PCA13     PCA14  \\\n",
       "31  -0.032560  0.000620  0.009642  ...  0.057488 -0.011580  0.012405   \n",
       "80   0.295346  0.336682 -0.334773  ...  0.028735  0.003237 -0.196109   \n",
       "122  0.783362 -0.345417  0.125250  ...  0.231449 -0.476991 -0.104173   \n",
       "162  0.037163  0.016902 -0.032761  ...  0.025300 -0.027439  0.034971   \n",
       "163 -0.032452  0.000906  0.007761  ...  0.052481 -0.008802  0.011174   \n",
       "\n",
       "        PCA15     PCA16     PCA17     PCA18     PCA19     PCA20  TARGET  \n",
       "31   0.042698 -0.134967  0.138209 -0.009994 -0.115179 -0.187693       1  \n",
       "80  -0.055849 -0.039107  0.106414 -0.139590 -0.080161  0.024956       1  \n",
       "122 -0.043055  0.219018 -0.216965  0.236151  0.078718 -0.057319       1  \n",
       "162  0.030247 -0.041550 -0.015170 -0.019821  0.023047  0.032352       1  \n",
       "163  0.038244 -0.119595  0.124521 -0.010602 -0.100033 -0.163663       1  \n",
       "\n",
       "[5 rows x 21 columns]"
      ]
     },
     "execution_count": 33,
     "metadata": {},
     "output_type": "execute_result"
    }
   ],
   "source": [
    "# Separando o dataset da classe 1\n",
    "data_classe1 = data2[data2[\"TARGET\"] == 1]\n",
    "data_classe1.head()"
   ]
  },
  {
   "cell_type": "code",
   "execution_count": 34,
   "metadata": {},
   "outputs": [
    {
     "name": "stdout",
     "output_type": "stream",
     "text": [
      "O dataset da classe 0 possui: 73012 linhas\n",
      "O dataset da classe 1 possui: 3008 linhas\n"
     ]
    }
   ],
   "source": [
    "# Tamanho dos datasets\n",
    "print(\"O dataset da classe 0 possui: %d linhas\" % data_classe0.shape[0])\n",
    "print(\"O dataset da classe 1 possui: %d linhas\" % data_classe1.shape[0])"
   ]
  },
  {
   "cell_type": "code",
   "execution_count": 35,
   "metadata": {},
   "outputs": [
    {
     "data": {
      "text/plain": [
       "(20000, 21)"
      ]
     },
     "execution_count": 35,
     "metadata": {},
     "output_type": "execute_result"
    }
   ],
   "source": [
    "# Reduzindo o dataset da classe 0\n",
    "data_classe0_nova = data_classe0.sample(20000)\n",
    "data_classe0_nova.shape"
   ]
  },
  {
   "cell_type": "code",
   "execution_count": 36,
   "metadata": {},
   "outputs": [
    {
     "data": {
      "text/plain": [
       "(23008, 21)"
      ]
     },
     "execution_count": 36,
     "metadata": {},
     "output_type": "execute_result"
    }
   ],
   "source": [
    "# Juntando novamente os datasets\n",
    "data3 = pd.concat([data_classe0_nova, data_classe1])\n",
    "data3.shape"
   ]
  },
  {
   "cell_type": "code",
   "execution_count": 37,
   "metadata": {},
   "outputs": [],
   "source": [
    "# Separando as features da variável target para aplicação do Smote\n",
    "features = data3.drop(\"TARGET\", axis = 1)\n",
    "target = data3.TARGET"
   ]
  },
  {
   "cell_type": "code",
   "execution_count": 38,
   "metadata": {},
   "outputs": [
    {
     "name": "stdout",
     "output_type": "stream",
     "text": [
      "Requirement already up-to-date: imbalanced-learn in c:\\users\\camil\\appdata\\roaming\\python\\python37\\site-packages (0.8.0)\n",
      "Requirement already satisfied, skipping upgrade: numpy>=1.13.3 in c:\\users\\camil\\anaconda3\\lib\\site-packages (from imbalanced-learn) (1.16.5)\n",
      "Requirement already satisfied, skipping upgrade: scikit-learn>=0.24 in c:\\users\\camil\\anaconda3\\lib\\site-packages (from imbalanced-learn) (0.24.2)\n",
      "Requirement already satisfied, skipping upgrade: joblib>=0.11 in c:\\users\\camil\\anaconda3\\lib\\site-packages (from imbalanced-learn) (1.0.1)\n",
      "Requirement already satisfied, skipping upgrade: scipy>=0.19.1 in c:\\users\\camil\\anaconda3\\lib\\site-packages (from imbalanced-learn) (1.2.1)\n",
      "Requirement already satisfied, skipping upgrade: threadpoolctl>=2.0.0 in c:\\users\\camil\\anaconda3\\lib\\site-packages (from scikit-learn>=0.24->imbalanced-learn) (2.2.0)\n"
     ]
    }
   ],
   "source": [
    "# instalando o pacote para usar o smote\n",
    "!pip install -U imbalanced-learn --user"
   ]
  },
  {
   "cell_type": "code",
   "execution_count": 39,
   "metadata": {},
   "outputs": [],
   "source": [
    "# Carregando a função Smote\n",
    "from imblearn.over_sampling import SMOTE"
   ]
  },
  {
   "cell_type": "code",
   "execution_count": 43,
   "metadata": {},
   "outputs": [],
   "source": [
    "# Aplicando o método de Smote\n",
    "smt = SMOTE()\n",
    "features, target = smt.fit_resample(features, target)"
   ]
  },
  {
   "cell_type": "code",
   "execution_count": 50,
   "metadata": {},
   "outputs": [
    {
     "data": {
      "text/plain": [
       "<matplotlib.axes._subplots.AxesSubplot at 0x239296d12e8>"
      ]
     },
     "execution_count": 50,
     "metadata": {},
     "output_type": "execute_result"
    },
    {
     "data": {
      "image/png": "[encoded data removed]",
      "text/plain": [
       "<Figure size 432x288 with 1 Axes>"
      ]
     },
     "metadata": {
      "needs_background": "light"
     },
     "output_type": "display_data"
    }
   ],
   "source": [
    "# Visualizando a distribuição das amostras\n",
    "target.plot.hist()"
   ]
  },
  {
   "cell_type": "code",
   "execution_count": 55,
   "metadata": {},
   "outputs": [
    {
     "data": {
      "text/plain": [
       "1    20000\n",
       "0    20000\n",
       "Name: TARGET, dtype: int64"
      ]
     },
     "execution_count": 55,
     "metadata": {},
     "output_type": "execute_result"
    }
   ],
   "source": [
    "# Agora as duas classes possuem a mesma quantidade\n",
    "target.value_counts()"
   ]
  },
  {
   "cell_type": "code",
   "execution_count": 56,
   "metadata": {},
   "outputs": [],
   "source": [
    "# Com os dados equilibrados, o modelo pode ser novamente treinado\n",
    "\n",
    "# Criando os conjuntos de dados de treino e teste sobre os dados equilibrados\n",
    "X_treino, X_teste, Y_treino, Y_teste = train_test_split(features, target, test_size = test_size)"
   ]
  },
  {
   "cell_type": "code",
   "execution_count": 57,
   "metadata": {},
   "outputs": [
    {
     "data": {
      "text/plain": [
       "LogisticRegression()"
      ]
     },
     "execution_count": 57,
     "metadata": {},
     "output_type": "execute_result"
    }
   ],
   "source": [
    "# Criando novamente o modelo de regressão logística\n",
    "modelo = LogisticRegression()\n",
    "modelo.fit(X_treino, Y_treino)"
   ]
  },
  {
   "cell_type": "code",
   "execution_count": 58,
   "metadata": {},
   "outputs": [
    {
     "name": "stdout",
     "output_type": "stream",
     "text": [
      "[[3964 1930]\n",
      " [1619 4487]]\n"
     ]
    }
   ],
   "source": [
    "# Fazendo as previsões\n",
    "previsoes = modelo.predict(X_teste)\n",
    "\n",
    "# Construindo a Confusion Matrix\n",
    "CM = confusion_matrix(Y_teste, previsoes)\n",
    "\n",
    "# Imprimindo a Confusion Matrix\n",
    "print(CM)"
   ]
  },
  {
   "cell_type": "code",
   "execution_count": 59,
   "metadata": {},
   "outputs": [
    {
     "data": {
      "text/plain": [
       "0.70425"
      ]
     },
     "execution_count": 59,
     "metadata": {},
     "output_type": "execute_result"
    }
   ],
   "source": [
    "# Calculando a acurácia\n",
    "accuracy_score(Y_teste, previsoes)"
   ]
  },
  {
   "cell_type": "code",
   "execution_count": 60,
   "metadata": {},
   "outputs": [
    {
     "name": "stdout",
     "output_type": "stream",
     "text": [
      "              precision    recall  f1-score   support\n",
      "\n",
      "           0       0.71      0.67      0.69      5894\n",
      "           1       0.70      0.73      0.72      6106\n",
      "\n",
      "    accuracy                           0.70     12000\n",
      "   macro avg       0.70      0.70      0.70     12000\n",
      "weighted avg       0.70      0.70      0.70     12000\n",
      "\n"
     ]
    }
   ],
   "source": [
    "# Relatório de classificação\n",
    "print(classification_report(Y_teste, previsoes))"
   ]
  },
  {
   "cell_type": "markdown",
   "metadata": {},
   "source": [
    "Após balanceamento dos dados, conseguiu-se uma acurácia de 70%. Porém, cabe testes com outros modelos para verificar a possibilidade de se conseguir uma melhor acurácia."
   ]
  },
  {
   "cell_type": "code",
   "execution_count": 61,
   "metadata": {},
   "outputs": [],
   "source": [
    "# Criando um modelo com o Decicion Tree\n",
    "\n",
    "# Importando a função\n",
    "from sklearn.tree import DecisionTreeClassifier"
   ]
  },
  {
   "cell_type": "code",
   "execution_count": 62,
   "metadata": {},
   "outputs": [
    {
     "data": {
      "text/plain": [
       "DecisionTreeClassifier()"
      ]
     },
     "execution_count": 62,
     "metadata": {},
     "output_type": "execute_result"
    }
   ],
   "source": [
    "# Criando o modelo\n",
    "modelo = DecisionTreeClassifier()\n",
    "modelo.fit(X_treino, Y_treino)"
   ]
  },
  {
   "cell_type": "code",
   "execution_count": 63,
   "metadata": {},
   "outputs": [
    {
     "name": "stdout",
     "output_type": "stream",
     "text": [
      "[[4735 1159]\n",
      " [1071 5035]]\n"
     ]
    }
   ],
   "source": [
    "# Fazendo as previsões\n",
    "previsoes = modelo.predict(X_teste)\n",
    "\n",
    "# Construindo a Confusion Matrix\n",
    "CM = confusion_matrix(Y_teste, previsoes)\n",
    "\n",
    "# Imprimindo a Confusion Matrix\n",
    "print(CM)"
   ]
  },
  {
   "cell_type": "code",
   "execution_count": 64,
   "metadata": {},
   "outputs": [
    {
     "data": {
      "text/plain": [
       "0.8141666666666667"
      ]
     },
     "execution_count": 64,
     "metadata": {},
     "output_type": "execute_result"
    }
   ],
   "source": [
    "# Calculando a acurácia\n",
    "accuracy_score(Y_teste, previsoes)"
   ]
  },
  {
   "cell_type": "code",
   "execution_count": 65,
   "metadata": {},
   "outputs": [
    {
     "name": "stdout",
     "output_type": "stream",
     "text": [
      "              precision    recall  f1-score   support\n",
      "\n",
      "           0       0.82      0.80      0.81      5894\n",
      "           1       0.81      0.82      0.82      6106\n",
      "\n",
      "    accuracy                           0.81     12000\n",
      "   macro avg       0.81      0.81      0.81     12000\n",
      "weighted avg       0.81      0.81      0.81     12000\n",
      "\n"
     ]
    }
   ],
   "source": [
    "# Relatório de classificação\n",
    "print(classification_report(Y_teste, previsoes))"
   ]
  },
  {
   "cell_type": "markdown",
   "metadata": {},
   "source": [
    "Com o Decision Tree foi possível alcançar 81% de acurácia."
   ]
  },
  {
   "cell_type": "code",
   "execution_count": 66,
   "metadata": {},
   "outputs": [],
   "source": [
    "# Criando um modelo com o SVM\n",
    "\n",
    "# Importando a função\n",
    "from sklearn.svm import SVC"
   ]
  },
  {
   "cell_type": "code",
   "execution_count": 67,
   "metadata": {},
   "outputs": [
    {
     "data": {
      "text/plain": [
       "SVC()"
      ]
     },
     "execution_count": 67,
     "metadata": {},
     "output_type": "execute_result"
    }
   ],
   "source": [
    "# Criando o modelo\n",
    "modelo = SVC()\n",
    "modelo.fit(X_treino, Y_treino)"
   ]
  },
  {
   "cell_type": "code",
   "execution_count": 68,
   "metadata": {},
   "outputs": [
    {
     "name": "stdout",
     "output_type": "stream",
     "text": [
      "[[4073 1821]\n",
      " [1540 4566]]\n"
     ]
    }
   ],
   "source": [
    "# Fazendo as previsões\n",
    "previsoes = modelo.predict(X_teste)\n",
    "\n",
    "# Construindo a Confusion Matrix\n",
    "CM = confusion_matrix(Y_teste, previsoes)\n",
    "\n",
    "# Imprimindo a Confusion Matrix\n",
    "print(CM)"
   ]
  },
  {
   "cell_type": "code",
   "execution_count": 69,
   "metadata": {},
   "outputs": [
    {
     "data": {
      "text/plain": [
       "0.7199166666666666"
      ]
     },
     "execution_count": 69,
     "metadata": {},
     "output_type": "execute_result"
    }
   ],
   "source": [
    "# Calculando a acurácia\n",
    "accuracy_score(Y_teste, previsoes)"
   ]
  },
  {
   "cell_type": "code",
   "execution_count": 70,
   "metadata": {},
   "outputs": [
    {
     "name": "stdout",
     "output_type": "stream",
     "text": [
      "              precision    recall  f1-score   support\n",
      "\n",
      "           0       0.73      0.69      0.71      5894\n",
      "           1       0.71      0.75      0.73      6106\n",
      "\n",
      "    accuracy                           0.72     12000\n",
      "   macro avg       0.72      0.72      0.72     12000\n",
      "weighted avg       0.72      0.72      0.72     12000\n",
      "\n"
     ]
    }
   ],
   "source": [
    "# Relatório de classificação\n",
    "print(classification_report(Y_teste, previsoes))"
   ]
  },
  {
   "cell_type": "markdown",
   "metadata": {},
   "source": [
    "Com o modelo SVM foi possível atingir 72% de acurácia."
   ]
  },
  {
   "cell_type": "markdown",
   "metadata": {},
   "source": [
    "### Conclusão\n",
    "\n",
    "O dataset utilizado neste projeto era muito extenso, possuía 76020 linhas e 371 colunas. Isto impossibilitou que fosse feita uma análise de correlação das variáveis, pois se tornaria inviável.\n",
    "\n",
    "Portanto, para trabalhar com tantas features, seria necessário aplicar um método de redimensionalidade dos dados. Porém, para aplicar a redimensionalidade seria necessário normalizar os dados, pois, todas as variáveis eram do tipo numérica e estavam completamente fora de escala.\n",
    "\n",
    "Sendo assim, foi aplicado aos dados a normalização e, em seguida, a redimensionalidade, através do método PCA (Principal Component Analysis).\n",
    "\n",
    "Após aplicar o PCA e treinar o modelo com o algoritmo Logistic Regression, conseguiu-se uma alta acurácia (96%), porém, o modelo estava enviesado, ou seja, ele aprendeu mais de uma classe do que de outra, visto que as classes estavam muito desequilibradas.\n",
    "\n",
    "Para resolver este problema, foi aplicado ao dataset um método de balanceamento de classes. Visto que os dados da classe 0 eram muito elevados em relação à classe 1, foi utilizado o método Smote, que consiste em gerar dados sintéticos (não duplicados) da classe minoritária a partir de vizinhos. \n",
    "\n",
    "Além disso, para que não fossem gerados tantos dados da classe 1, os dados da classe 0 foram reduzidos de 73012 linhas para 20000 linhas. Sendo assim, o novo dataset gerado ficou com 40000 linhas balanceadas, ou seja, 20000 linhas da classe 0 e 20000 da classe 1.\n",
    "\n",
    "Após este trabalho de balanceamento, os dados foram novamente treinados. Três algoritimos foram utilizados: Logistic Regression, Decision Tree e SVM.\n",
    "\n",
    "A acurácia alcançada nestes 3 algoritmos foram de 70%, 81% e 72%, respectivamente, todas atendendo à meta deste projeto.\n",
    "\n",
    "Logo, dos 3 algoritmos testados, o que apresentou melhor acurácia foi o Decision Tree, alcançando uma marca de 81%, ficando 11% acima do objetivo deste projeto."
   ]
  }
 ],
 "metadata": {
  "kernelspec": {
   "display_name": "Python 3",
   "language": "python",
   "name": "python3"
  },
  "language_info": {
   "codemirror_mode": {
    "name": "ipython",
    "version": 3
   },
   "file_extension": ".py",
   "mimetype": "text/x-python",
   "name": "python",
   "nbconvert_exporter": "python",
   "pygments_lexer": "ipython3",
   "version": "3.7.3"
  }
 },
 "nbformat": 4,
 "nbformat_minor": 2
}
